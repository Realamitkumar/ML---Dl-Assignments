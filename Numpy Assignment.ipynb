{
 "cells": [
  {
   "cell_type": "code",
   "execution_count": 1,
   "id": "91680a12",
   "metadata": {},
   "outputs": [],
   "source": [
    "import numpy as np"
   ]
  },
  {
   "cell_type": "code",
   "execution_count": 16,
   "id": "8e4ad8f9",
   "metadata": {},
   "outputs": [],
   "source": [
    "def move_avg(nlist,n):\n",
    "    cumsum, movingaverages = [0], []\n",
    "    for i, x in enumerate(nlist, 1):\n",
    "        cumsum.append(cumsum[i-1] + x)\n",
    "        if i>=n:\n",
    "            average = round(((cumsum[i] - cumsum[i-n])/n),2)\n",
    "            movingaverages.append(average)\n",
    "    print(\"Moving average values list:\", movingaverages)\n",
    "    print(\"Length of the list:\", len(movingaverages))"
   ]
  },
  {
   "cell_type": "code",
   "execution_count": 17,
   "id": "b95f6389",
   "metadata": {},
   "outputs": [
    {
     "name": "stdout",
     "output_type": "stream",
     "text": [
      "Moving average values list: [25.0, 35.0, 45.0, 55.0, 65.0, 75.0, 85.0]\n",
      "Length of the list: 7\n"
     ]
    }
   ],
   "source": [
    "list1 = [10, 20, 30, 40, 50, 60, 70, 80, 90, 100]\n",
    "n=4\n",
    "movingaverage(list1,n)"
   ]
  },
  {
   "cell_type": "markdown",
   "id": "0fef1031",
   "metadata": {},
   "source": [
    "# Question\n",
    "**Write a function to find moving average in an array over a window:**\n",
    "\n",
    "**Test it over [3, 5, 7, 2, 8, 10, 11, 65, 72, 81, 99, 100, 150] and window of 3.**\n"
   ]
  },
  {
   "cell_type": "code",
   "execution_count": 18,
   "id": "1eec5703",
   "metadata": {},
   "outputs": [
    {
     "name": "stdout",
     "output_type": "stream",
     "text": [
      "Moving average values list: [5.0, 4.67, 5.67, 6.67, 9.67, 28.67, 49.33, 72.67, 84.0, 93.33, 116.33]\n",
      "Length of the list: 11\n"
     ]
    }
   ],
   "source": [
    "list2 = [3, 5, 7, 2, 8, 10, 11, 65, 72, 81, 99, 100, 150]\n",
    "n=3\n",
    "\n",
    "movingaverage(list2,n)"
   ]
  },
  {
   "cell_type": "code",
   "execution_count": null,
   "id": "d4dbd0be",
   "metadata": {},
   "outputs": [],
   "source": []
  }
 ],
 "metadata": {
  "kernelspec": {
   "display_name": "Python 3",
   "language": "python",
   "name": "python3"
  },
  "language_info": {
   "codemirror_mode": {
    "name": "ipython",
    "version": 3
   },
   "file_extension": ".py",
   "mimetype": "text/x-python",
   "name": "python",
   "nbconvert_exporter": "python",
   "pygments_lexer": "ipython3",
   "version": "3.8.8"
  }
 },
 "nbformat": 4,
 "nbformat_minor": 5
}
