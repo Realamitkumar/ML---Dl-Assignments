{
 "cells": [
  {
   "cell_type": "markdown",
   "metadata": {},
   "source": [
    "# Statistics - ***``Assignment``*** - 3"
   ]
  },
  {
   "cell_type": "markdown",
   "metadata": {},
   "source": [
    "# **Problem Statement 1:**\n",
    "\n",
    "Blood glucose levels for obese patients have a mean of 100 with a standard deviation of 15.\n",
    "\n",
    "A researcher thinks that a diet high in raw cornstarch will have a positive effect on \n",
    "blood glucose levels.\n",
    "\n",
    "\n",
    "A sample of 36 patients who have tried the raw cornstarch diet \n",
    "have a mean glucose level of 108. Test the hypothesis that the raw cornstarch had an effect or not.\n"
   ]
  },
  {
   "cell_type": "code",
   "execution_count": 6,
   "metadata": {},
   "outputs": [
    {
     "name": "stdout",
     "output_type": "stream",
     "text": [
      "--------------------------------------------------------------------\n"
     ]
    },
    {
     "data": {
      "text/plain": [
       "3.2"
      ]
     },
     "execution_count": 6,
     "metadata": {},
     "output_type": "execute_result"
    }
   ],
   "source": [
    "import numpy as np\n",
    "#Given:\n",
    "population_mean = 100\n",
    "std = 15\n",
    "sample = 36\n",
    "sample_mean = 108\n",
    "\n",
    "\n",
    "#step-1\n",
    "#h0:yes, positive effect \n",
    "#h1:no,positive effect or negative effect\n",
    "\n",
    "#step-2\n",
    "#standard_error = std/root(sample)\n",
    "std_error = std/np.sqrt(36)\n",
    "\n",
    "\n",
    "#step-3\n",
    "#z-test = (sample_mean - population_mean)/std_error\n",
    "z_test = (sample_mean - population_mean)/std_error\n",
    "\n",
    "#step-4\n",
    "#ideal siginificance value 0.05 or 5%\n",
    "\n",
    "#cv = -1.6\n",
    "\n",
    "# since our z_tes score greater than cv(critical value)\n",
    "#rejecting h0\n",
    "#thus,no,positive effect or there is a negative effect\n",
    "\n",
    "print(\"--\"*34)\n",
    "z_test\n",
    "\n"
   ]
  },
  {
   "cell_type": "markdown",
   "metadata": {},
   "source": [
    "# Or\n",
    "\n",
    "Ho: mean = 100\n",
    "\n",
    "H1: mean != 100\n",
    "\n",
    "--------------------------------------------------------------\n",
    "\n",
    "Assume 95% confidence level.\n",
    "\n",
    "**``0.05/2 = 0.025``**\n",
    "\n",
    "CV, Z_{0.025}=1.96\n",
    "\n",
    "z_test = 14.61\n",
    "\n",
    "Since the calculated statistic 14.61 is greater than the critical value, 1.96, we reject the null hypothesis i.e., cornstarch had an effect on blood glucose level."
   ]
  },
  {
   "cell_type": "markdown",
   "metadata": {},
   "source": [
    "# **Problem Statement 2:**\n",
    "\n",
    "In one state, 52% of the voters are Republicans, and 48% are Democrats.\n",
    "\n",
    "In a second state, 47% of the voters are Republicans, and 53% are Democrats.\n",
    "\n",
    "Suppose a simple random sample of 100 voters are surveyed from each state.\n",
    "\n",
    "What is the probability that the survey will show a greater percentage of Republican \n",
    "\n",
    "voters in the second state than in the first state?\n"
   ]
  },
  {
   "cell_type": "markdown",
   "metadata": {},
   "source": [
    "# Answer:\n",
    "\n",
    "# **\"\"**\n",
    "# Refer ``Organic chemistry`` Channel \n",
    "# Lecture ``Population Proportion``\n",
    "# **\"\"**\n",
    "\n",
    "\n",
    "P1 = the proportion of Republican voters in the first state,\n",
    "\n",
    "P2 = the proportion of Republican voters in the second state,\n",
    "\n",
    "-----------------------------------------------------------------\n",
    "p1 = the proportion of Republican voters in the sample from the first state,\n",
    "\n",
    "p2 = the proportion of Republican voters in the sample from the second state.\n",
    "\n",
    "------------------------------------------------------------------\n",
    "\n",
    "The number of voters sampled from the first state (n1) = 100, and the number of voters sampled from the second state (n2) = 100.\n",
    "\n",
    "------------------------------------------------------------------\n",
    "\n",
    "Make sure the samples from each population are big enough to model differences with a normal distribution.\n",
    "\n",
    "\n",
    "Becoz,\n",
    "here\n",
    "\n",
    "n1P1 = 100 * 0.52 = 52, n1(1 - P1) = 100 * 0.48 = 48,\n",
    "n2P2 = 100 * 0.47 = 47, and n2(1 - P2) = 100 * 0.53 = 53\n",
    "\n",
    "each are greater than 10, the sample size is large enough.\n",
    "\n",
    "\n",
    "-------------------------------------------------------------------\n",
    "\n",
    "mean of the difference in sample proportions: E(p1 - p2)\n",
    "\n",
    "mu = P1 - P2 = 0.52 - 0.47 = 0.05\n",
    "\n",
    "standard deviation of the difference:\n",
    "\n",
    "``std = math.sqrt(((P1 * (1-P1) ) / n1) + ((P2 * (1-P1)) /n2))``\n",
    "\n",
    "``print(\"Mu : \",mu,\"Std : \",std)``\n",
    "\n",
    "-----------------------------------------------------------------\n",
    "\n",
    "This problem requires us to find the probability that p1 is less than p2. \n",
    "\n",
    "\n",
    "This is equivalent to finding the probability that p1 - p2 < 0. \n",
    "\n",
    "\n",
    "x = 0\n",
    "\n",
    "\n",
    "To find this probability, we need to transform the random variable (p1 - p2) into a z-score. \n",
    "\n",
    "\n",
    "#That transformation appears below.\n",
    "Z_p1_p2 = ( x - mu)/std\n",
    "\n",
    "print(\"Z_score(p1,p2) : \",Z_p1_p2)\n",
    "\n",
    "#From Z table we find that the probability of a z-score being -0.7082 or less is 0.24.\n",
    "\n",
    "Therefore, the probability that the survey will show a greater percentage of Republican voters \n",
    "in the second state than in the first state is 0.24."
   ]
  },
  {
   "cell_type": "markdown",
   "metadata": {},
   "source": [
    "# Problem Statement 3:\n",
    "\n",
    "You take the SAT and score 1100. The mean score for the SAT is 1026 and the standard \n",
    "deviation is 209. How well did you score on the test compared to the average test taker?\n"
   ]
  },
  {
   "cell_type": "code",
   "execution_count": 4,
   "metadata": {},
   "outputs": [
    {
     "name": "stdout",
     "output_type": "stream",
     "text": [
      "My Score is in the range 817 - 1235  with a  zscore 0.35\n",
      "--------------------------------------------------------------------\n",
      "Z-Score is 0.35406698564593303\n"
     ]
    }
   ],
   "source": [
    "# Given :\n",
    "# std = 209\n",
    "# sample_mean(x) = 1100\n",
    "# _population_mean = 1026\n",
    "\n",
    "#z-test\n",
    "#z =(x-mu)/std\n",
    "mu=1026\n",
    "sd=209\n",
    "z =(1100-1026)/209\n",
    "\n",
    "#the above calculation shows that my score is 0.35 standard deviations above the mean\n",
    "print(\"My Score is in the range {} - {}  with a  zscore {:.2f}\".format(mu - sd,mu + sd,z))\n",
    "print(\"--\"*34)\n",
    "print(\"Z-Score is {}\".format(z))"
   ]
  },
  {
   "cell_type": "markdown",
   "metadata": {},
   "source": [
    "# Done!"
   ]
  }
 ],
 "metadata": {
  "kernelspec": {
   "display_name": "Python 3.8.8 ('base')",
   "language": "python",
   "name": "python3"
  },
  "language_info": {
   "codemirror_mode": {
    "name": "ipython",
    "version": 3
   },
   "file_extension": ".py",
   "mimetype": "text/x-python",
   "name": "python",
   "nbconvert_exporter": "python",
   "pygments_lexer": "ipython3",
   "version": "3.8.8"
  },
  "orig_nbformat": 4,
  "vscode": {
   "interpreter": {
    "hash": "ad2bdc8ecc057115af97d19610ffacc2b4e99fae6737bb82f5d7fb13d2f2c186"
   }
  }
 },
 "nbformat": 4,
 "nbformat_minor": 2
}
