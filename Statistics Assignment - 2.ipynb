{
 "cells": [
  {
   "cell_type": "markdown",
   "metadata": {},
   "source": [
    "# **Statistics Assignment 2**"
   ]
  },
  {
   "cell_type": "code",
   "execution_count": 1,
   "metadata": {},
   "outputs": [],
   "source": [
    "# Importing libraries \n",
    "import pandas as pd\n",
    "import numpy as np\n",
    "import matplotlib.pyplot as plt\n",
    "import seaborn as sns\n",
    "from scipy import stats\n",
    "%matplotlib inline"
   ]
  },
  {
   "cell_type": "markdown",
   "metadata": {},
   "source": [
    "# Problem Statement 1:"
   ]
  },
  {
   "cell_type": "markdown",
   "metadata": {},
   "source": [
    "In each of the following situations, state whether it is a correctly stated hypothesis\n",
    "\n",
    "testing problem and why?\n",
    "\n",
    "- 1.H0: μ = 25, H1: μ ≠ 25\n",
    "- 2.H0: σ > 10, H1: σ = 10\n",
    "- 3.H0: x = 50, H1: x ≠ 50\n",
    "- 4.H0: p = 0.1, H1: p = 0.5\n",
    "- 5.H0: s = 30, H1: s > 30"
   ]
  },
  {
   "cell_type": "markdown",
   "metadata": {},
   "source": [
    "``Answers``\n",
    "- 1. Yes, it is Correctly Stated.\n",
    "  It is a two tailed hypothesis (Whenever , your alternate hypothesis does not equals to something then your calculated z-values can be on left side or right side so in that scenerio you have to use two-tailed test )\n",
    "\n",
    "- 2. Incorrect Statement. Firstly, null and alternate hypothesis combined aren't completing the entire sample space and alternate hypothesis is not complimemt of the null hypothesis. Also, equality is mostly stated in null hypothesis.\n",
    "\n",
    "- 3. Yes, it is Correctly Stated.\n",
    "  It is a two tailed hypothesis (Whenever , your alternate hypothesis does not equals to something then your calculated z-values can be on left side or right side so in that scenerio you have to use two-tailed test )\n",
    "  \n",
    "\n",
    "  Eg:\n",
    "  ``Note``:x is with bar or x-bar\n",
    "  - the null hypothesis cannot be stated in terms of statistic, x̄.\n",
    "  - Hence, in this case it ' s not correctly stated.\n",
    "\n",
    "  -  4. In this case we can see our probability of null hypothesis value is not same as alternate hypothesis value although alternate one contains equality sign , Still it 's not proper hypothesis.\n",
    "\n",
    "  Hence, it is not correctly stated.\n",
    "   \n",
    "- 5. As same as 2nd point that is , Incorrect Statement. Firstly, null and alternate hypothesis combined aren't completing the entire sample space and alternate hypothesis is not complimemt of the null hypothesis.\n"
   ]
  },
  {
   "cell_type": "markdown",
   "metadata": {},
   "source": [
    "# **Problem Statement 2**:\n",
    "\n",
    "The college bookstore tells prospective students that the average cost of its textbooks is Rs. 52 with a standard deviation of Rs. 4.50.\n",
    "\n",
    " A group of smart statistics students thinks that the average cost is higher.\n",
    " \n",
    "  To test the bookstore’s claim against their alternative, the students will select a random sample of size 100.\n",
    "  \n",
    "   Assume that the mean from their random sample is Rs. 52.80. Perform a hypothesis test at the 5% level of significance and state your decision."
   ]
  },
  {
   "cell_type": "code",
   "execution_count": 13,
   "metadata": {},
   "outputs": [
    {
     "name": "stdout",
     "output_type": "stream",
     "text": [
      "critical region is +1.96 to -1.96\n",
      "As are z - value not lie in critical region we have to accept null_hypo...\n",
      "As claimed made by college book store is correct: x = 52 \n"
     ]
    }
   ],
   "source": [
    "# Given:\n",
    "# mu (population mean): 52\n",
    "# std = 4.50\n",
    "# sample size (randomly selected): 100\n",
    "# x-bar (sample mean): 52.80\n",
    "# significance value = 5% or 0.05\n",
    "\n",
    "# Doing Hypothesis Testing:\n",
    "# claims made by book seller,\n",
    "# First Step:\n",
    "# h0: average cost is not higher(mean = 52) , h1: average cost is  higher(mean! = 52)\n",
    "# so, this is Two-tailed test as there is a equality sign in alternate hypothesis which is\n",
    "#complement of null hypothesis.\n",
    "\n",
    "#Second Step:\n",
    "#Doing Z-Test:\n",
    "# z = (x_mean (sample mean) - population_mean(mu) / Standard Error)\n",
    "\n",
    "# To find Standard Error : (std / under_root of n(sample size))\n",
    "# (4.50 / under_root of 100) i.e., (4.50/10) = 0.45\n",
    "\n",
    "# z = 52.80 - 52 / 0.45\n",
    "# z = 1.77\n",
    "\n",
    "#Third Step:\n",
    "#Z of significance level\n",
    "# as this two-tailed we have to do half of significance value(See Figure - 1 Below )\n",
    "# that becomes , 0.025 both sides of the distribution \n",
    "# Z(0.05) = +- 1.96(See Figure - 2) \n",
    "# So , our critical region is from -1.96 to +1.96.\n",
    "# here my point that is 1.77 not falling in crtical region \n",
    "# hence , we have to accept our null-hypothesis and reject alternate hypothesis.\n",
    "# Conclusion: Average cost that is claimed by book seller is true or correctly stated.\n",
    "              #x_bar = 52\n",
    "\n",
    "#Code:\n",
    "standard_error = 4.50/np.sqrt(100)\n",
    "z = (52.80 - 52) / standard_error  \n",
    "z\n",
    "print(\"critical region is +1.96 to -1.96\")\n",
    "print(\"As are z - value not lie in critical region we have to accept null_hypo...\")\n",
    "print('As claimed made by college book store is correct: x = 52 ')"
   ]
  },
  {
   "cell_type": "markdown",
   "metadata": {},
   "source": [
    "**Figure - 1**\n",
    "\n",
    "![Alt text](../../../../../c:/Users/amitt/OneDrive/Desktop/WhatsApp%20Image%202022-11-20%20at%2006.23.28.jpg)"
   ]
  },
  {
   "cell_type": "markdown",
   "metadata": {},
   "source": [
    "**Figure - 2**\n",
    "\n",
    "![Figure - 2](../../../../../c:/Users/amitt/OneDrive/Desktop/Screenshot%202022-11-20%20062947.png)"
   ]
  },
  {
   "cell_type": "markdown",
   "metadata": {},
   "source": [
    "# **Problem Statement 3**:\n",
    "\n",
    "A certain chemical pollutant in the Genesee River has been constant for several years with mean μ = 34 ppm (parts per million) and standard deviation σ = 8 ppm.\n",
    "\n",
    " A group of factory representatives whose companies discharge liquids into the river is now claiming that they have lowered the average with improved filtration devices.\n",
    " \n",
    "  A group of environmentalists will test to see if this is true at the 1% level of significance. Assume that their sample of size 50 gives a mean of 32.5 ppm.\n",
    "\n",
    "\n",
    "Perform a hypothesis test at the 1% level of significance and state your decision."
   ]
  },
  {
   "cell_type": "code",
   "execution_count": 19,
   "metadata": {},
   "outputs": [
    {
     "name": "stdout",
     "output_type": "stream",
     "text": [
      "Yes,claim made by factory representatives is correct , average has decreased from 34ppm\n",
      "Our z_statistics value not lie within crtical value 2.3\n",
      "we have to accept null-hypothesis and rejected alternate hypothesis\n"
     ]
    }
   ],
   "source": [
    "#Code To Do Hypothesis Testing\n",
    "\n",
    "# H0 : mean <= 34 right-tailed-test\n",
    "# H1 : mean > 34\n",
    "\n",
    "#standard_error = standard_deviation / np.sqrt(sample_size)\n",
    "standard_error = 8 / np.sqrt(50)\n",
    "\n",
    "#z = (sample_mean - population_mean)/standard_error\n",
    "z_statistics = (32.5 - 34)/standard_error\n",
    "z_statistics\n",
    "# checking crtical region with respect to significance level that we have calculated\n",
    "critical_value = 2.3\n",
    "#from above\n",
    "print(\"Yes,claim made by factory representatives is correct , average has decreased from 34ppm\")\n",
    "print(\"Our z_statistics value not lie within crtical value 2.3\")\n",
    "print(\"we have to accept null-hypothesis and rejected alternate hypothesis\")"
   ]
  },
  {
   "cell_type": "markdown",
   "metadata": {},
   "source": [
    "# **Problem Statement 4**:\n",
    "\n",
    "Based on population figures and other general information on the U.S. population, suppose it has been estimated that, on average, a family of four in the U.S. \n",
    "\n",
    "spends about $1135 annually on dental expenditures. Suppose further that a regional dental association wants to test to determine if this figure is accurate for their area of country.\n",
    "\n",
    " To test this, 22 families of 4 are randomly selected from the population in that area of the country and a log is kept of the family’s dental expenditure for one year. The resulting data are given below.\n",
    " \n",
    "  Assuming, that dental expenditure is normally distributed in the population, use the data and an alpha of 0.5 to test the dental association’s hypothesis.\n",
    "\n",
    "\n",
    "1008, 812, 1117, 1323, 1308, 1415, 831, 1021, 1287, 851, 930, 730, 699, 872, 913, 944, 954, 987, 1695, 995, 1003, 994"
   ]
  },
  {
   "cell_type": "code",
   "execution_count": 6,
   "metadata": {},
   "outputs": [
    {
     "name": "stdout",
     "output_type": "stream",
     "text": [
      "-2.070747228595759\n",
      "So, on average a family of four in the U.S. doesn't spends about $1135 annually on dental expenditure\n"
     ]
    }
   ],
   "source": [
    "data = [1008, 812, 1117, 1323, 1308, 1415, 831, 1021, 1287, 851, 930, 730, 699, 872, 913, 944, 954, 987, 1695, 995, 1003, 994]\n",
    "\n",
    "sample_mean = np.mean(data)\n",
    "sample_std = np.std(data)\n",
    "\n",
    "# As the sample size is small and population std deviation is unknown, we will use t-test\n",
    "\n",
    "# H0 : mean = 1135\n",
    "# H1 : mean != 1135\n",
    "\n",
    "std_err = sample_std / np.sqrt(22)  # standard error = std deviation / (sample size)**0.5\n",
    "t_statistic = (sample_mean - 1135)/ std_err # z_statistic = (Sample mean - Population mean) / standard error\n",
    "print(t_statistic)\n",
    "#df:degree of freedom = sample - 1 => 22-1 => 21\n",
    "# As this is a two tailed test with alpha = 0.5 and df = 21. Using, t table, we get t_critical = -0.686 and +0.686.\n",
    "\n",
    "#Our t_statistic = -2.07 which lies in the rejection region. So, we have to reject the null hypothesis.\n",
    "\n",
    "print(\"So, on average a family of four in the U.S. doesn't spends about $1135 annually on dental expenditure\")"
   ]
  },
  {
   "cell_type": "markdown",
   "metadata": {},
   "source": [
    "# figure ``t-statistics``\n",
    "![Alt text](ts.png)"
   ]
  },
  {
   "cell_type": "markdown",
   "metadata": {},
   "source": [
    "# **Problem Statement 6:**\n",
    "\n",
    "Suppose that in past years the average price per square foot for warehouses\n",
    "in the United States has been 32.28 dollars.\n",
    "\n",
    "A national real estate investor\n",
    "wants to determine whether that figure has changed now. The investor hires\n",
    "a researcher who randomly samples 19 warehouses that are for sale across\n",
    "the United States and finds that the mean price per square foot is 31.67\n",
    "dollars, with a standard deviation of $1.29.\n",
    "\n",
    "assume that the prices of\n",
    "warehouse footage are normally distributed in population. If the researcher\n",
    "uses a 5% level of significance, what statistical conclusion can be reached?\n",
    "What are the hypotheses?\n"
   ]
  },
  {
   "cell_type": "code",
   "execution_count": 25,
   "metadata": {},
   "outputs": [
    {
     "name": "stdout",
     "output_type": "stream",
     "text": [
      "standard error is 29.594629669302464%\n",
      "t_statistic is -2.06118477175179%\n",
      "-------------------------------------------------------------------------------------\n",
      "So, my t_statistics value are not lie in the critical region that is -+2.101 , we failed to reject the null hypothesis\n",
      "-------------------------------------------------------------------------------------\n",
      "He claim that is the average price per square foot for warehouses in the United States is 32.28 dollars is correct !!\n"
     ]
    }
   ],
   "source": [
    "# Given\n",
    "# sample = 19\n",
    "# standard deviation = $1.29\n",
    "\n",
    "# level of significance = 0.05 or 5%\n",
    "\n",
    "# standard_error = standard_deviation/underoot of sample\n",
    "# t_statistics = (sample_mean - population_mean)/standard_error\n",
    "\n",
    "# Code:\n",
    "\n",
    "# ho:32.28\n",
    "# h1 != 32.28\n",
    "\n",
    "standard_error = 1.29/np.sqrt(19)\n",
    "print(\"standard error is {}%\".format(standard_error*100))\n",
    "\n",
    "t_statistic = (31.67 - 32.28)/standard_error\n",
    "print(\"t_statistic is {}%\".format(t_statistic))\n",
    "\n",
    "print(\"-\"*85)\n",
    "print(\"So, my t_statistics value are not lie in the critical region that is -+2.101 , we failed to reject the null hypothesis\")\n",
    "\n",
    "print(\"-\"*85)\n",
    "print(\"He claim that is the average price per square foot for warehouses in the United States is 32.28 dollars is correct !!\")\n"
   ]
  },
  {
   "cell_type": "markdown",
   "metadata": {},
   "source": [
    "# **Problem Statement 7**\n",
    "\n",
    "Fill in the blank spaces in the table and draw your conclusions from it"
   ]
  },
  {
   "cell_type": "markdown",
   "metadata": {},
   "source": [
    "# **Problem Statement 8:**\n",
    "\n",
    "\n",
    "Find the t-score for a sample size of 16 taken from a population with mean\n",
    "\n",
    "10 when the sample mean is 12 and the sample standard deviation is 1.5."
   ]
  },
  {
   "cell_type": "code",
   "execution_count": 31,
   "metadata": {},
   "outputs": [
    {
     "name": "stdout",
     "output_type": "stream",
     "text": [
      "t-score is 5.33%\n"
     ]
    }
   ],
   "source": [
    "# sample = 16\n",
    "# mean = 12 (sample_mean)\n",
    "# mean = 10 (population_mean)\n",
    "# standard_deviation = 1.5\n",
    "\n",
    "standard_error = 1.5/np.sqrt(16)\n",
    "t_statistic = (12-10)/standard_error\n",
    "\n",
    "print(\"t-score is {}%\".format(round(t_statistic,2)))"
   ]
  },
  {
   "cell_type": "markdown",
   "metadata": {},
   "source": [
    "# **Problem Statement 9:**\n",
    "\n",
    "Find the t-score below which we can expect 99% of sample means will\n",
    "fall if\n",
    "\n",
    "samples of size 16 are taken from a normally distributed population.\n"
   ]
  },
  {
   "cell_type": "code",
   "execution_count": 35,
   "metadata": {},
   "outputs": [
    {
     "name": "stdout",
     "output_type": "stream",
     "text": [
      "t-score : 2.602\n"
     ]
    }
   ],
   "source": [
    "# sample = 16\n",
    "# mean = 0.99 (sample_mean)\n",
    "\n",
    "\n",
    "df = 15 # Degree of Freedom (16-1) see on row side of t_table\n",
    "alpha = 0.01 # one tailed\n",
    "print(\"t-score : 2.602\")"
   ]
  },
  {
   "cell_type": "markdown",
   "metadata": {},
   "source": [
    "# **Problem Statement 10:**\n",
    "\n",
    "If a random sample of size 25 drawn from a normal population gives a mean\n",
    "of 60 and a standard deviation of 4,\n",
    "\n",
    " find the range of t-scores where we can\n",
    "expect to find the middle 95% of all sample means. Compute the probability\n",
    "that (−t0.05<𝑡<𝑡0.10)."
   ]
  },
  {
   "cell_type": "code",
   "execution_count": 6,
   "metadata": {},
   "outputs": [
    {
     "name": "stdout",
     "output_type": "stream",
     "text": [
      "The standard error is 0.8\n",
      "Range of t-scores is from -2.064 to 2.064\n"
     ]
    }
   ],
   "source": [
    "#sample = 25\n",
    "#sample_mean = 60\n",
    "#standard deviation = 4\n",
    "\n",
    "\n",
    "sample_mean = 60\n",
    "sample_size = 25\n",
    "sample_std = 4\n",
    "\n",
    "std_err = sample_std / (sample_size)**0.5\n",
    "print(\"The standard error is {}\".format(std_err))\n",
    "\n",
    "#t_score = (sample_mean - population_mean) / std_err\n",
    "\n",
    "#For, df = 24 and alpha = 0.05 \n",
    "# for a two tailed test because we need middle 95%:\n",
    "#  t_critical = -2.064 to 2.064 (range)\n",
    "print(\"Range of t-scores is from {} to {}\".format(-2.064 , 2.064))\n",
    "#Part b)\n",
    "\n",
    "# Since, t0.1 leaves an area of 0.1 in the right and\n",
    "#  -t0.05 leaves an area of 0.05 in the left. So, \n",
    "# P(−t0.05 < t < t0.10) = 1 - 0.1 - 0.05 = 0.85"
   ]
  },
  {
   "cell_type": "markdown",
   "metadata": {},
   "source": [
    "# **Problem Statement 11:**\n",
    "\n",
    "Two-tailed test for difference between two population means Is there\n",
    "evidence to conclude that the number of people travelling from Bangalore\n",
    "to Chennai is different from the number of people travelling from Bangalore\n",
    "to Hosur in a week, given the following: \n",
    "\n",
    "Population 1: Bangalore to Chennai n1 = 1200\n",
    "\n",
    "x1 = 452\n",
    "\n",
    "\n",
    "s1 = 212\n",
    "\n",
    "Population 2: Bangalore to Hosur n2 = 800\n",
    "\n",
    "x2 = 523\n",
    "\n",
    "\n",
    "s2 = 185"
   ]
  },
  {
   "cell_type": "code",
   "execution_count": 26,
   "metadata": {},
   "outputs": [
    {
     "name": "stdout",
     "output_type": "stream",
     "text": [
      "7.926428526759299\n",
      "------------------------------------------------------------\n",
      "So, our z_statistic is too high or we can say it's p value is approximately zero.\n",
      "------------------------------------------------------------\n",
      "So, for any significance level, we can reject the null hypothesis !!\n",
      "------------------------------------------------------------\n"
     ]
    }
   ],
   "source": [
    "# Hypothesis Testing :\n",
    "# H0: μ1 = μ2\n",
    "# H1: μ1 ≠ μ2 \n",
    "\n",
    "# As sample size is large, we will use z test:# As sample size is large, we will use z test:\n",
    "# std_err = sample_std / (sample_size)**0.5\n",
    "std_err = (((212)**2 / 1200) + ((185)**2) / 800)**0.5\n",
    "\n",
    "z_statistic = (523 - 452) / std_err\n",
    "print(z_statistic)\n",
    "print(\"--\"*30)\n",
    "print(\"So, our z_statistic is too high or we can say it's p value is approximately zero.\")\n",
    "print(\"--\"*30)\n",
    "print(\"So, for any significance level, we can reject the null hypothesis !!\")\n",
    "print(\"--\"*30)"
   ]
  },
  {
   "cell_type": "markdown",
   "metadata": {},
   "source": [
    "# **Problem Statement 12:**\n",
    "\n",
    "Is there evidence to conclude that the number of people preferring Duracell\n",
    "battery is different from the number of people preferring Energizer battery,\n",
    "given the following:\n",
    "\n",
    "\n",
    "Population 1: Duracell\n",
    "\n",
    "n1 = 100 x1 = 308 s1 = 84\n",
    "\n",
    "Population 2: Energizer\n",
    "\n",
    "n2 = 100 x2 = 254 s2 = 67\n"
   ]
  },
  {
   "cell_type": "code",
   "execution_count": 25,
   "metadata": {},
   "outputs": [
    {
     "name": "stdout",
     "output_type": "stream",
     "text": [
      "5.025702668336442\n",
      "------------------------------------------------------------\n",
      "So, our z_statistic is too high or we can say it's p value is approximately zero.\n",
      "------------------------------------------------------------\n",
      "So, for any significance level, we can reject the null hypothesis i.e number of people using both are different\n"
     ]
    }
   ],
   "source": [
    "# Hypothesis Testing :\n",
    "# H0: μ1 = μ2\n",
    "# H1: μ1 ≠ μ2 \n",
    "\n",
    "# As sample size is large, we will use z test:\n",
    "\n",
    "std_err = (((84)**2 / 100) + ((67)**2 / 100))**0.5\n",
    "\n",
    "z_statistic = (308 - 254) / std_err\n",
    "print(z_statistic)\n",
    "print(\"--\"*30)\n",
    "print(\"So, our z_statistic is too high or we can say it's p value is approximately zero.\")\n",
    "print(\"--\"*30)\n",
    "print(\"So, for any significance level, we can reject the null hypothesis i.e number of people using both are different\")"
   ]
  },
  {
   "cell_type": "markdown",
   "metadata": {},
   "source": [
    "# **Problem Statement 13:**\n",
    "\n",
    "Pooled estimate of the population variance. Does the data provide sufficient evidence to conclude that average percentage increase in the price of sugar differs when it is sold at two different prices?\n",
    "\n",
    "\n",
    "Population 1: Price of sugar = Rs. 27.50 n1 = 14\n",
    "\n",
    "x1 = 0.317% s1 = 0.12%\n",
    "\n",
    "Population 2: Price of sugar = Rs. 20.00 n2 = 9\n",
    "\n",
    "x2 = 0.21% s2 = 0.11%"
   ]
  },
  {
   "cell_type": "code",
   "execution_count": 39,
   "metadata": {},
   "outputs": [
    {
     "name": "stdout",
     "output_type": "stream",
     "text": [
      "So, there's insufficient evidence to conclude anything !!\n",
      "But Null hypothesis can be rejected at 5% level of significance\n"
     ]
    }
   ],
   "source": [
    "# Hypothesis Testing :\n",
    "# H0: avg1 = avg2\n",
    "# H1: avg1 ≠ avg2 \n",
    "\n",
    "# As sample size is small, we will use t test:\n",
    "\n",
    "Sp = (((13* (0.12)**2) + (8 * (0.11)**2)) / 21)**0.5  # Sp = ((n1 * s1^2 + n2 * s2^2) / n1+n2-2) ^ 0.5\n",
    "\n",
    "std_err = Sp * ((1/14) + (1/9))**0.5 # std_err = Sp * (1/n1 + 1/n2)**0.5\n",
    "\n",
    "t_statistic = (0.317 - 0.21) / std_err\n",
    "df = 21\n",
    "# As t_statistic is coming 2.153. So, we will need level of significance in order to make a claim.\n",
    "\n",
    "print(\"So, there's insufficient evidence to conclude anything !!\")\n",
    "\n",
    "#df = 21 and aplha = 0.05, t_critical = 2.08\n",
    "print(\"But Null hypothesis can be rejected at 5% level of significance\")"
   ]
  },
  {
   "cell_type": "markdown",
   "metadata": {},
   "source": [
    "# **Problem Statement 14:**\n",
    "\n",
    "The manufacturers of compact disk players want to test whether a small price reduction is enough to increase sales of their product. Is there evidence that the small price reduction is enough to increase sales of compact disk players?\n",
    "\n",
    "\n",
    "Population 1: Before reduction\n",
    "\n",
    "n1 = 15 \n",
    "\n",
    "x1 = Rs. 6598\n",
    "\n",
    "s1 = Rs. 844\n",
    "\n",
    "Population 2: After reduction\n",
    "\n",
    "n2 = 12 \n",
    "\n",
    "x2 = RS. 6870 \n",
    "\n",
    "s2 = Rs. 669"
   ]
  },
  {
   "cell_type": "code",
   "execution_count": 40,
   "metadata": {},
   "outputs": [
    {
     "name": "stdout",
     "output_type": "stream",
     "text": [
      "0.9098300343990459\n",
      "So, even at 10% level of significance, we cannot reject the null hypothesis!!\n"
     ]
    }
   ],
   "source": [
    "# Hypothesis Testing :\n",
    "# H0: μ1 >= μ2\n",
    "# H1: μ1 < μ2 \n",
    "\n",
    "# As sample size is small, we will use t test:\n",
    "\n",
    "Sp = (((14* (844)**2) + (11 * (669)**2)) / 25)**0.5  # Sp = ((n1 * s1^2 + n2 * s2^2) / n1+n2-2) ^ 0.5\n",
    "\n",
    "std_err = Sp * ((1/15) + (1/12))**0.5 # std_err = Sp * (1/n1 + 1/n2)**0.5\n",
    "\n",
    "t_statistic = (6870 - 6598) / std_err\n",
    "print(t_statistic)\n",
    "# As t_statistic is coming 0.91.\n",
    "\n",
    "#df = 25 and even if we take alpha = 0.1 i.e 10% --> t_critical = 1.316\n",
    "\n",
    "print(\"So, even at 10% level of significance, we cannot reject the null hypothesis!!\")"
   ]
  },
  {
   "cell_type": "markdown",
   "metadata": {},
   "source": [
    "# **Problem Statement 15:**\n",
    "\n",
    "Comparisons of two population proportions when the hypothesized difference is zero. Carry out a two-tailed test of the equality of banks’ share of the car loan market in 1980 and 1995.\n",
    "\n",
    "\n",
    "Population 1: 1980\n",
    "\n",
    "n1 = 1000\n",
    "\n",
    "x1 = 53\n",
    "\n",
    "p1 = 0.53\n",
    "\n",
    "Population 2: 1985\n",
    "\n",
    "n2 = 100\n",
    "\n",
    "x2 = 43\n",
    "\n",
    "p2= 0.43"
   ]
  },
  {
   "cell_type": "code",
   "execution_count": 42,
   "metadata": {},
   "outputs": [
    {
     "name": "stdout",
     "output_type": "stream",
     "text": [
      "So, even at 10% level of significance, we cannot reject the null hypothesis!!\n"
     ]
    }
   ],
   "source": [
    "# Hypothesis Testing :\n",
    "# H0: p1 - p2 = 0\n",
    "# H1: p1 - p2 ≠ 0 \n",
    "\n",
    "# As sample size is large enough, we will use z test:\n",
    "\n",
    "# p_cap = (x1 + x2) / (n1 + n2)\n",
    "p_cap = (53+43) / (1000+100)\n",
    "p_cap\n",
    "\n",
    "std_err = np.sqrt(p_cap * (1 - p_cap) * (1/1000 + 1/100))\n",
    "\n",
    "z_statistic = (0.53 - 0.43) / std_err\n",
    "\n",
    "# As z_statistic is coming 1.415.\n",
    "\n",
    "#even if we take alpha = 0.1 i.e 10% --> z_critical = 1.64\n",
    "\n",
    "print(\"So, even at 10% level of significance, we cannot reject the null hypothesis!!\")"
   ]
  },
  {
   "cell_type": "markdown",
   "metadata": {},
   "source": [
    "# **Problem Statement 16:**\n",
    "\n",
    "Carry out a one-tailed test to determine whether the population proportion of traveler’s check buyers who buy at least $2500 in checks when sweepstakes prize are offered as at least 10% higher than the proportion of such buyers when no sweepstakes are on.\n",
    "\n",
    "\n",
    "Population 1: With sweepstakes\n",
    "\n",
    "n1 = 300\n",
    "\n",
    "x1 = 120 \n",
    "\n",
    "p = 0.40\n",
    "\n",
    "Population 2: No sweepstakes\n",
    "\n",
    "n2 = 700\n",
    "\n",
    "x2 = 140\n",
    "p2 = 0.20"
   ]
  },
  {
   "cell_type": "code",
   "execution_count": 2,
   "metadata": {},
   "outputs": [
    {
     "name": "stdout",
     "output_type": "stream",
     "text": [
      "So, even at 0.1% level of significance, we can reject the null hypothesis!\n"
     ]
    }
   ],
   "source": [
    "# Hypothesis Testing :\n",
    "# H0: p1 - p2 <= 0.1\n",
    "# H1: p1 - p2 > 0.1\n",
    "# As sample size is large, we will use z test:\n",
    "n1 = 300\n",
    "x1 = 120\n",
    "p1_cap = 0.40\n",
    "n2 = 700\n",
    "x2 = 140\n",
    "p2_cap = 0.20\n",
    "std_err = np.sqrt((p1_cap * (1 - p1_cap) / n1) + (p2_cap * (1 - p2_cap) / n2))\n",
    "z_statistic = ((0.4 - 0.2) - 0.1)/ std_err\n",
    "# As z_statistic is coming 3.11.\n",
    "#even if we take alpha = 0.001 i.e 10% --> z_critical = 3.09\n",
    "print(\"So, even at 0.1% level of significance, we can reject the null hypothesis!\")"
   ]
  },
  {
   "cell_type": "markdown",
   "metadata": {},
   "source": [
    "**Chi-square test**\n",
    "\n",
    "The chi-squared test is done to check if there is any difference between the observed value and expected value.\n",
    "\n",
    "The formula for chi-square can be written as; or χ2 = ∑(Oi – Ei)2/Ei where Oi is the observed value and Eiis the expected value."
   ]
  },
  {
   "cell_type": "markdown",
   "metadata": {},
   "source": [
    "# **Problem Statement 17:**\n",
    "\n",
    "A die is thrown 132 times with the following results:\n",
    "\n",
    "Number turned up: 1, 2,\n",
    "3, 4, 5, 6\n",
    "\n",
    "Frequency: 16, 20, 25, 14, 29, 28\n",
    "\n",
    "Is the die unbiased? Consider the degrees of freedom as p_cap -1 ."
   ]
  },
  {
   "cell_type": "code",
   "execution_count": 11,
   "metadata": {},
   "outputs": [
    {
     "name": "stdout",
     "output_type": "stream",
     "text": [
      "We cannot reject the null hypothesis. So, our die is unbiased\n"
     ]
    }
   ],
   "source": [
    "\n",
    "#H0 : The die is unbiased\n",
    "#H1 : The die is biased\n",
    "\n",
    "# Here, we will use the concept of chi-square test on categorical variables.\n",
    "# chi_statistic = sum of ((Observed - Expected)^2 / Expected)\n",
    "Expected = 132 * (1/6)\n",
    "numbers = [1,2,3,4,5,6]\n",
    "Observed = [16, 20, 25, 14, 29, 28]\n",
    "\n",
    "chi_statistic_list = []\n",
    "\n",
    "for i in Observed:\n",
    "    c = (i-Expected)**2/Expected\n",
    "    chi_statistic_list.append(c)\n",
    "    \n",
    "\n",
    "\n",
    "chi_statistics = sum(chi_statistic_list)\n",
    "\n",
    "degree_of_freedom = len(numbers) - 1\n",
    "\n",
    "#At 5% level of significance for 5 d.f. chi_critical = 11.07 which is > than chi_statistics\n",
    "\n",
    "print(\"We cannot reject the null hypothesis. So, our die is unbiased\")\n"
   ]
  },
  {
   "cell_type": "markdown",
   "metadata": {},
   "source": [
    "# **Chi-Square Independence of test**"
   ]
  },
  {
   "cell_type": "markdown",
   "metadata": {},
   "source": [
    "# **Problem Statement 18:**\n",
    "\n",
    "In a certain town, there are about one million eligible voters. A simple\n",
    "random sample of 10,000 eligible voters was chosen to study the\n",
    "relationship between gender and participation in the last election.\n",
    "\n",
    "The results are summarized in the following 2X2 (read two by two) contingency\n",
    "table:\n",
    "\n",
    "\n",
    "\n",
    "\n",
    "\n",
    "\n",
    "\n",
    "\n",
    "\n",
    "We would want to check whether being a man or a woman (columns) is independent of\n",
    "having voted in the last election (rows). In other words, is “gender and voting\n",
    "independent”?\n"
   ]
  },
  {
   "cell_type": "code",
   "execution_count": 9,
   "metadata": {},
   "outputs": [
    {
     "name": "stdout",
     "output_type": "stream",
     "text": [
      "chi_statistic is coming 6.660455899328067 \n",
      "The hypothesis that the gender and voting are independent rejected at 5% level of significance.\n"
     ]
    }
   ],
   "source": [
    "#Step:1\n",
    "# ho: gender and voting are independent\n",
    "# h1: gender and voting are dependent\n",
    "\n",
    "\n",
    "#Step:2\n",
    "# Degree of freedom\n",
    "# df = (row-1)(column-2)\n",
    "# df = (2-1) (2-1)\n",
    "# df = 1\n",
    "\n",
    "#Step:3 (significance be 0.05 or 5%)\n",
    "# crtical value = 3.841\n",
    "#test of independence typically right tailed\n",
    "\n",
    "#Step:4\n",
    "#To Find expected value :\n",
    "# E = (R_total)*(C_total)/N\n",
    "\n",
    "#Expected Values:\n",
    "#--------------------------\n",
    "E_1_1 = (6383)*(4278)/10000\n",
    "E_1_2 = (6383)*(5722)/10000\n",
    "E_2_1 = (3617)*(4278)/10000\n",
    "E_2_2 = (3617)*(5722)/10000\n",
    "#---------------------------\n",
    "\n",
    "\n",
    "#Step:5\n",
    "#CHi-square test = sum((observed - expected)**2)/Expected)\n",
    "chi_statistic = (2792-E_1_1)**2/E_1_1 + (3591-E_1_2)**2/E_1_2 + (1486-E_2_1)**2/E_2_1 + (2131-E_2_2)**2/E_2_2\n",
    "print(\"chi_statistic is coming {} \" .format(chi_statistic))\n",
    "\n",
    "\n",
    "\n",
    "#As, chi_statistic is coming 6.66 which is greater than chi_critical (1 df and 5% sig. level) = 3.84\n",
    "\n",
    "print(\"The hypothesis that the gender and voting are independent rejected at 5% level of significance.\")"
   ]
  },
  {
   "cell_type": "markdown",
   "metadata": {},
   "source": [
    "# **Chi-Squared Goodness-of-Fit test**"
   ]
  },
  {
   "cell_type": "markdown",
   "metadata": {},
   "source": [
    "# **Problem Statement 19:**\n",
    "\n",
    "A sample of 100 voters are asked which of four candidates they would vote for in an election.\n",
    "\n",
    "The number supporting each candidate is given below:\n",
    "Do the data suggest that all candidates are equally popular?\n",
    "\n",
    "\n",
    " [Chi-Square = 14.96, \n",
    "with 3 df, 𝑝<0.05 .\n",
    "\n",
    "Higgin:41\n",
    "\n",
    "Reardon:19\n",
    "\n",
    "White:24\n",
    "\n",
    "Charlton:16"
   ]
  },
  {
   "cell_type": "code",
   "execution_count": 10,
   "metadata": {},
   "outputs": [
    {
     "name": "stdout",
     "output_type": "stream",
     "text": [
      "so we conclude that voters do not prefer the four candidates equally.\n"
     ]
    }
   ],
   "source": [
    "#A Chi-Squared Goodness-of-Fit test is appropriate here. \n",
    "#H0: There is no preference for any of the candidates\n",
    "#So, we would expect roughly equal numbers of voters to support each candidate. \n",
    "#Our expected frequencies are therefore 100/4 = 25 per candidate.\n",
    "\n",
    "# chi_statistic = sum of ((Observed - Expected)^2 / Expected)\n",
    "\n",
    "\n",
    "Expected = 25\n",
    "Observed = [41,19,24,16]\n",
    "\n",
    "chi_statistic_list = []\n",
    "\n",
    "for i in Observed:\n",
    "    chi_statistic_list.append((i-Expected)**2 / Expected)\n",
    "    \n",
    "chi_statistic = sum(chi_statistic_list) # value = 14.96\n",
    "\n",
    "#The critical value of Chi-Square for a 0.05 significance level and 3 d.f. is 7.82.\n",
    "#  Our obtained Chi-Square value is bigger than this.\n",
    "\n",
    "print(\"so we conclude that voters do not prefer the four candidates equally.\")"
   ]
  },
  {
   "cell_type": "markdown",
   "metadata": {},
   "source": [
    "# Problem Statement-20\n",
    "\n",
    "Children of three ages are asked to indicate their preference for three photographs of adults.\n",
    "\n",
    "Do the data suggest that there is a significant relationship between age and photograph preference?\n",
    "\n",
    "What is wrong with this study? [Chi-Square = 29.6, with 4 df: p < 0.05]."
   ]
  },
  {
   "cell_type": "markdown",
   "metadata": {},
   "source": [
    "# Explanation Of Answer\n",
    "A Chi-Squared Goodness-of-Fit test is appropriate here.\n",
    "\n",
    "Firstly, lets calculate row, column\n",
    "and grand totals.\n",
    "\n",
    "\n",
    "Then, Work out the expected frequencies, using the formula:\n",
    " (row total*column total)\n",
    "E = grand total chi_statistic = sum((O-E)^2 / E)\n",
    "\n",
    "\n",
    "chi_statistic = 29.6 # After calculation\n",
    "\n",
    "\n",
    "\n",
    "df = (columns-1) (rows-1) = 22 = 4\n",
    "\n",
    "\n",
    "The critical value of Chi-Square in the table for a 0.05 significance level and 4 d.f. is 18.46.\n",
    "\n",
    "Our obtained Chi-Square value is bigger than this: therefore we have a Chi-Square value which is so large that it would occur by chance only about once in a thousand times.\n",
    "\n",
    "It\n",
    "seems more reasonable to accept the alternative hypothesis, that there is a significant\n",
    "relationship between age of child and photograph preference."
   ]
  },
  {
   "cell_type": "markdown",
   "metadata": {},
   "source": [
    "# **Problem Statement 21:**\n",
    "\n",
    "A study of conformity using the Asch paradigm involved two conditions:\n",
    "\n",
    "one where one confederate supported the true judgement and another where\n",
    "no confederate gave the correct response"
   ]
  },
  {
   "cell_type": "markdown",
   "metadata": {},
   "source": [
    "``Answer:``\n",
    "\n",
    "A Chi-Squared Goodness-of-Fit test is appropriate here. Firstly, lets calculate row, column and grand totals.\n",
    "\n",
    "Then, Work out the expected frequencies, using the formula:\n",
    "\n",
    " (row total*column total)\n",
    "E = grand total chi_statistic = sum((O-E)^2 / E)\n",
    "\n",
    "chi_statistic = 18.1 # After calculation df = (columns-1) (rows-1) = 1*1 = 1\n",
    "\n",
    "Our obtained value of Chi-Squared is bigger than the critical value of Chi-Squared for a 0.001 significance level.\n",
    "\n",
    "In other words, there is less than a one in a thousand chance of obtaining a Chi-Square value as big as our obtained one, merely by chance.\n",
    "\n",
    "Therefore we can conclude that there is a significant difference between the \"support\" and \"no support\" conditions, in terms of the frequency with which individuals conformed."
   ]
  },
  {
   "cell_type": "markdown",
   "metadata": {},
   "source": [
    "# **Problem Statement 22:**\n",
    "\n",
    "We want to test whether short people differ with respect to their leadership\n",
    "qualities (Genghis Khan, Adolf Hitler and Napoleon were all stature-deprived, and how many midget MP's are there?)\n",
    "\n",
    " The following table shows\n",
    "the frequencies with which 43 short people and 52 tall people were\n",
    "categorized as \"leaders\", \"followers\" or as \"unclassifiable\".\n",
    "\n",
    " Is there a\n",
    "relationship between height and leadership qualities? [Chi-Square = 10.71,\n",
    "with 2 df: p < 0.01]."
   ]
  },
  {
   "cell_type": "markdown",
   "metadata": {},
   "source": [
    "**Answer**\n",
    "``Chi-square goodness of fit``\n",
    "\n",
    "- chi_statistic = 10.712 with 2 d.f.\n",
    "\n",
    "- 10.712 is bigger than the tabulated value of Chi-Square\n",
    "- at the 0.01 significance level. \n",
    "\n",
    "- We would conclude that there seems to be a relationship between height and leadership qualities."
   ]
  },
  {
   "cell_type": "markdown",
   "metadata": {},
   "source": [
    "# **Problem Statement 23:**\n",
    "\n",
    "Each respondent in the Current Population Survey of March 1993 was\n",
    "classified as employed, unemployed, or outside the labor force. The results\n",
    "for men in California age 35- 44 can be cross-tabulated by marital status, as\n",
    "follows:\n",
    "\n",
    "\n",
    "Men of different marital status seem to have different distributions of labor force status.\n",
    "\n",
    " Or is this just chance variation? (you may assume the table results from a simple random\n",
    "sample.)\n"
   ]
  },
  {
   "cell_type": "markdown",
   "metadata": {},
   "source": [
    "``Formula``\n",
    "x2 = sum  or  sigma(observed - expected )/expected "
   ]
  },
  {
   "cell_type": "markdown",
   "metadata": {},
   "source": [
    "chi_statistic is coming very large as\n",
    "\n",
    "compared to the values for any significance level at df\n",
    "= 4.\n",
    "\n",
    "So, it can be concluded that yes,\n",
    "\n",
    " Men of different marital status seem to have different\n",
    "distributions of labor force status.\n"
   ]
  },
  {
   "cell_type": "markdown",
   "metadata": {},
   "source": [
    "**Completed**"
   ]
  }
 ],
 "metadata": {
  "kernelspec": {
   "display_name": "Python 3.8.8 ('base')",
   "language": "python",
   "name": "python3"
  },
  "language_info": {
   "codemirror_mode": {
    "name": "ipython",
    "version": 3
   },
   "file_extension": ".py",
   "mimetype": "text/x-python",
   "name": "python",
   "nbconvert_exporter": "python",
   "pygments_lexer": "ipython3",
   "version": "3.8.8"
  },
  "orig_nbformat": 4,
  "vscode": {
   "interpreter": {
    "hash": "ad2bdc8ecc057115af97d19610ffacc2b4e99fae6737bb82f5d7fb13d2f2c186"
   }
  }
 },
 "nbformat": 4,
 "nbformat_minor": 2
}
