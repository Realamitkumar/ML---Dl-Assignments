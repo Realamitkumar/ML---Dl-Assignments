{
 "cells": [
  {
   "cell_type": "markdown",
   "id": "f0f58620",
   "metadata": {},
   "source": [
    "**1. Write a function to compute 5/0 and use try/except to catch the exceptions.**"
   ]
  },
  {
   "cell_type": "code",
   "execution_count": 13,
   "id": "50cb7b82",
   "metadata": {},
   "outputs": [
    {
     "name": "stdout",
     "output_type": "stream",
     "text": [
      "division by zero\n"
     ]
    }
   ],
   "source": [
    "try :\n",
    "    s = 5/0\n",
    "    print(\"Success\")\n",
    "except Exception as e:\n",
    "    print(e)"
   ]
  },
  {
   "cell_type": "markdown",
   "id": "83fece94",
   "metadata": {},
   "source": [
    "**2. Implement a Python program to generate all sentences where subject is in \n",
    "[\"Americans\", \"Indians\"] and verb is in [\"Play\", \"watch\"] and the object is in \n",
    "[\"Baseball\",\"cricket\"].**\n",
    "\n",
    "- Hint: Subject,Verb and Object should be declared in the program as shown below.\n",
    "\n",
    "- **subjects=[\"Americans \",\"Indians\"]**\n",
    "- **verbs=[\"play\",\"watch\"]**\n",
    "- **objects=[\"Baseball\",\"Cricket\"]**\n",
    "\n",
    "\n",
    "- **Output should come as below:**\n",
    "\n",
    "- Americans play Baseball.\n",
    "- Americans play Cricket.\n",
    "- Americans watch Baseball.\n",
    "- Americans watch Cricket.\n",
    "- Indians play Baseball.\n",
    "- Indians play Cricket.\n",
    "- Indians watch Baseball.\n",
    "- Indians watch Cricket.\n",
    "\n",
    "- **NOTE:ThesolutionsharedthroughG**"
   ]
  },
  {
   "cell_type": "code",
   "execution_count": 14,
   "id": "d321cdce",
   "metadata": {},
   "outputs": [],
   "source": [
    "subjects=[\"Americans \",\"Indians\"]\n",
    "verbs=[\"play\",\"watch\"]\n",
    "objects=[\"Baseball\",\"Cricket\"]"
   ]
  },
  {
   "cell_type": "markdown",
   "id": "6d34396b",
   "metadata": {},
   "source": [
    "**Here i have used list comprehension instead looping over each rows**"
   ]
  },
  {
   "cell_type": "code",
   "execution_count": 76,
   "id": "03c016d5",
   "metadata": {},
   "outputs": [
    {
     "data": {
      "text/plain": [
       "['Americans play Baseball',\n",
       " 'Americans play Cricket',\n",
       " 'Americans watch Baseball',\n",
       " 'Americans watch Cricket',\n",
       " 'Indiansplay Baseball',\n",
       " 'Indiansplay Cricket',\n",
       " 'Indianswatch Baseball',\n",
       " 'Indianswatch Cricket']"
      ]
     },
     "execution_count": 76,
     "metadata": {},
     "output_type": "execute_result"
    }
   ],
   "source": [
    "[(sub+\"\"+vb+\" \"+ob) for sub in subjects for vb in verbs for ob in objects ]"
   ]
  }
 ],
 "metadata": {
  "kernelspec": {
   "display_name": "Python 3",
   "language": "python",
   "name": "python3"
  },
  "language_info": {
   "codemirror_mode": {
    "name": "ipython",
    "version": 3
   },
   "file_extension": ".py",
   "mimetype": "text/x-python",
   "name": "python",
   "nbconvert_exporter": "python",
   "pygments_lexer": "ipython3",
   "version": "3.8.8"
  }
 },
 "nbformat": 4,
 "nbformat_minor": 5
}
