{
 "cells": [
  {
   "cell_type": "code",
   "execution_count": 14,
   "metadata": {},
   "outputs": [],
   "source": [
    "\n",
    "import scipy.stats as stats"
   ]
  },
  {
   "cell_type": "markdown",
   "metadata": {},
   "source": [
    "# **Problem Statement 1:**\n",
    "\n",
    "Is gender independent of education level? A random sample of 395 people were surveyed and each person was asked to report the highest education level they obtained. The data that resulted from the survey is summarized in the following table:\n",
    "\n",
    "\n",
    "        High School Bachelors Masters Ph.d. Total\n",
    "Female       60          54    46      41    201\n",
    "\n",
    "Male 40 44 53 57 194\n",
    "\n",
    "Total 100 98 99 98 395\n",
    "\n",
    "Question: Are gender and education level dependent at 5% level of significance? In\n",
    "\n",
    "other words, given the data collected above, is there a relationship between the\n",
    " \n",
    "gender of an individual and the level of education that they have obtained?\n"
   ]
  },
  {
   "cell_type": "markdown",
   "metadata": {},
   "source": [
    "# ANSWER:\n",
    "\n",
    "**Steps**\n",
    "- 1. State the hypotheses\n",
    "- 2. Formulate an analysis Plan\n",
    "- 3. Analyze sample data\n",
    "- 4. Interpret results\n",
    "\n",
    "\n",
    "-------------------------------------------------------\n",
    "#hypothesis **``step``**\n",
    "1. ho: independent of education level \n",
    "2. h1 or ha : dependent of education level \n",
    "\n",
    "-------------------------------------------------------\n",
    "#degree of freedom\n",
    "\n",
    "(row-1)(column-1) => (2-1)(5-1) => 4\n",
    "\n",
    "--------------------------------------------------------\n",
    "#given : \n",
    "\n",
    "significance(5% or 0.05) define **``critical value``**\n",
    "\n",
    "critical value (``c.v``) = ``9.488``\n",
    "\n",
    "---------------------------------------------------------\n",
    "#Calculating expected values for\n",
    " \n",
    "#putting into chi-square formula\n",
    "\n",
    "\n",
    "#Formula:\n",
    "\n",
    "E = **``(Row_total)(column_total)/N(total)``**\n",
    "\n",
    "#1st row\n",
    "\n",
    "E1,1 = (201)(100)/395\n",
    "\n",
    "E1,2 = (201)(98)/295\n",
    "\n",
    "E1,3 = (201)(99)/295\n",
    "\n",
    "E1,4 = (201)(98)/295\n",
    "\n",
    "#2nd row\n",
    "\n",
    "E2,1 = (194)(100)/395\n",
    "\n",
    "E2,2 = (194)(98)/295\n",
    "\n",
    "E2,3 = (194)(99)/295\n",
    "\n",
    "E2,4 = (194)(98)/295\n",
    "\n",
    "-------------------------------------------------------------\n",
    "#now calculating chi-square value\n",
    "x^^2C = sigma or sum(observed - expected)^^2/E\n",
    "\n",
    "(60-50)**2/50 + (54-66)**2/66 + (46-67)**2/67 + (41-66)**2/66\n",
    "\n",
    "so, Chi-square value = 20\n",
    "\n",
    "-------------------------------------------------------------\n",
    "\n",
    "My ``Chi-square value`` is ``greater`` than ``Critical_value`` so we have to\n",
    "\n",
    "**reject null hypothesis** i.e., independent of education level \n",
    "\n",
    "------------------------------------------------------------\n",
    "**``Conclusion``**\n",
    "\n",
    "-> so, we have to ``accept alternate`` hypothesis that is dependent of education \n",
    "level\n",
    "\n",
    "\n",
    "\n"
   ]
  },
  {
   "cell_type": "markdown",
   "metadata": {},
   "source": [
    "# **Problem Statement 2:**\n",
    "\n",
    "Using the following data, perform a oneway analysis of variance using α=.05. \n",
    "\n",
    "Write up the results in APA format.\n",
    "\n",
    "[Group1: 51, 45, 33, 45, 67]\n",
    "\n",
    "[Group2: 23, 43, 23, 43, 45]\n",
    "\n",
    "[Group3: 56, 76, 74, 87, 56"
   ]
  },
  {
   "cell_type": "code",
   "execution_count": 15,
   "metadata": {},
   "outputs": [
    {
     "name": "stdout",
     "output_type": "stream",
     "text": [
      "F Statistic value9.747205503009463,p-value 0.0030597541434430548\n",
      "True\n",
      "-------------------------------------------------------------------------------------------------------------------\n",
      "The test result suggests that groups have different same sample means in this example,since the p-value\n"
     ]
    }
   ],
   "source": [
    "\n",
    "Group1= [51, 45, 33, 45, 67] \n",
    "Group2= [23, 43, 23, 43, 45]\n",
    "Group3= [56, 76, 74, 87, 56]\n",
    "#perform the ANOVA\n",
    "statistic, pvalue =stats.f_oneway(Group1,Group2,Group3)\n",
    "print(\"F Statistic value{},p-value {}\".format(statistic,pvalue))\n",
    "if pvalue < 0.05:\n",
    "    print('True')\n",
    "else:\n",
    "    print('False')\n",
    "print(\"-\"*115)\n",
    "print(\"The test result suggests that groups have different same sample means in this example,since the p-value\")"
   ]
  },
  {
   "cell_type": "markdown",
   "metadata": {},
   "source": [
    "# **Problem Statement 3:**\n",
    "Calculate F Test for given 10, 20, 30, 40, 50 and 5,10,15, 20, 25.\n",
    "\n",
    "For 10, 20, 30, 40, 50:"
   ]
  },
  {
   "cell_type": "code",
   "execution_count": 17,
   "metadata": {},
   "outputs": [
    {
     "name": "stdout",
     "output_type": "stream",
     "text": [
      "F Test for given 10, 20, 30, 40, 50 and 5,10,15, 20, 25 is :  4.0\n"
     ]
    }
   ],
   "source": [
    "import numpy as np\n",
    "stats.f_oneway([10, 20, 30, 40, 50],[5,10,15, 20, 25])\n",
    "Group1=[10, 20, 30, 40, 50]\n",
    "Group2=[5,10,15, 20, 25]\n",
    "mean_1=np.mean(Group1)\n",
    "mean_2=np.mean(Group2)\n",
    "grp1_sub_mean1= []\n",
    "grp2_sub_mean2= []\n",
    "add1 = 0\n",
    "add2 = 0\n",
    "for items in Group1:\n",
    "    add1 += (items - mean_1)**2\n",
    "for items in Group2:\n",
    "    add2 += (items - mean_2)**2\n",
    "var1= add1/(len(Group1)-1)\n",
    "var2=add2/(len(Group2)-1)\n",
    "\n",
    "F_test = var1/var2\n",
    "print(\"F Test for given 10, 20, 30, 40, 50 and 5,10,15, 20, 25 is : \",F_test)"
   ]
  },
  {
   "cell_type": "markdown",
   "metadata": {},
   "source": [
    "# Done With Statistics Assignment"
   ]
  },
  {
   "cell_type": "markdown",
   "metadata": {},
   "source": [
    "- **Amit Kumar Upadhyay**\n",
    "- **Data Scientist / Data Analyst / BI Analyst**\n",
    "- **Linkedin : https://www.linkedin.com/in/realamit2180**"
   ]
  }
 ],
 "metadata": {
  "kernelspec": {
   "display_name": "Python 3.10.0 64-bit",
   "language": "python",
   "name": "python3"
  },
  "language_info": {
   "codemirror_mode": {
    "name": "ipython",
    "version": 3
   },
   "file_extension": ".py",
   "mimetype": "text/x-python",
   "name": "python",
   "nbconvert_exporter": "python",
   "pygments_lexer": "ipython3",
   "version": "3.10.0"
  },
  "orig_nbformat": 4,
  "vscode": {
   "interpreter": {
    "hash": "26de051ba29f2982a8de78e945f0abaf191376122a1563185a90213a26c5da77"
   }
  }
 },
 "nbformat": 4,
 "nbformat_minor": 2
}
