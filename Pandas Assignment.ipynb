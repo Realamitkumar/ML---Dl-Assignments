{
 "cells": [
  {
   "cell_type": "code",
   "execution_count": 36,
   "id": "be4abcf0",
   "metadata": {},
   "outputs": [],
   "source": [
    "import pandas as pd\n",
    "import numpy as np"
   ]
  },
  {
   "cell_type": "markdown",
   "id": "dcd72019",
   "metadata": {},
   "source": [
    "**``1``**"
   ]
  },
  {
   "cell_type": "code",
   "execution_count": 37,
   "id": "85c3db5a",
   "metadata": {},
   "outputs": [],
   "source": [
    "df = pd.DataFrame({'From_To': ['LoNDon_paris', 'MAdrid_miLAN', \n",
    "'londON_StockhOlm',\n",
    "'Budapest_PaRis', 'Brussels_londOn'],\n",
    "'FlightNumber': [10045, np.nan, 10065, np.nan, 10085],\n",
    "'RecentDelays': [[23, 47], [], [24, 43, 87], [13], [67, 32]],\n",
    "'Airline': ['KLM(!)', '<Air France> (12)', '(British Airways. )',\n",
    "'12. Air France', '\"Swiss Air\"']})"
   ]
  },
  {
   "cell_type": "code",
   "execution_count": 38,
   "id": "0a5f06e4",
   "metadata": {},
   "outputs": [
    {
     "data": {
      "text/plain": [
       "From_To         0\n",
       "FlightNumber    2\n",
       "RecentDelays    0\n",
       "Airline         0\n",
       "dtype: int64"
      ]
     },
     "execution_count": 38,
     "metadata": {},
     "output_type": "execute_result"
    }
   ],
   "source": [
    "df.isnull().sum()"
   ]
  },
  {
   "cell_type": "code",
   "execution_count": 39,
   "id": "a2bd18d5",
   "metadata": {
    "scrolled": true
   },
   "outputs": [
    {
     "data": {
      "text/plain": [
       "From_To          object\n",
       "FlightNumber    float64\n",
       "RecentDelays     object\n",
       "Airline          object\n",
       "dtype: object"
      ]
     },
     "execution_count": 39,
     "metadata": {},
     "output_type": "execute_result"
    }
   ],
   "source": [
    "df.dtypes"
   ]
  },
  {
   "cell_type": "markdown",
   "id": "08e319de",
   "metadata": {},
   "source": [
    "**``2``**"
   ]
  },
  {
   "cell_type": "markdown",
   "id": "2f3814da",
   "metadata": {},
   "source": [
    "**let's fix this missing ``values``**\n",
    "- **Fixing ``missing`` values with the ``mean`` of ``FlighNumber``**"
   ]
  },
  {
   "cell_type": "code",
   "execution_count": 40,
   "id": "17762810",
   "metadata": {},
   "outputs": [],
   "source": [
    "df.fillna(value=df['FlightNumber'].mean(),inplace=True)"
   ]
  },
  {
   "cell_type": "code",
   "execution_count": 41,
   "id": "c46eb887",
   "metadata": {},
   "outputs": [
    {
     "data": {
      "text/plain": [
       "From_To         0\n",
       "FlightNumber    0\n",
       "RecentDelays    0\n",
       "Airline         0\n",
       "dtype: int64"
      ]
     },
     "execution_count": 41,
     "metadata": {},
     "output_type": "execute_result"
    }
   ],
   "source": [
    "df.isnull().sum()"
   ]
  },
  {
   "cell_type": "markdown",
   "id": "8830c108",
   "metadata": {},
   "source": [
    "**Now, converting ``float`` dtype of ``FlightNumber`` to ``int32`` dtype**\n",
    "- **``astype('int')``**"
   ]
  },
  {
   "cell_type": "code",
   "execution_count": 42,
   "id": "56b641dd",
   "metadata": {},
   "outputs": [],
   "source": [
    "df['Flight_Numbers']=df['FlightNumber'].astype(int)"
   ]
  },
  {
   "cell_type": "code",
   "execution_count": 43,
   "id": "3752bac3",
   "metadata": {},
   "outputs": [],
   "source": [
    "df.drop(columns=['FlightNumber'],inplace=True)"
   ]
  },
  {
   "cell_type": "code",
   "execution_count": 44,
   "id": "3c89f050",
   "metadata": {
    "scrolled": false
   },
   "outputs": [
    {
     "data": {
      "text/plain": [
       "From_To           object\n",
       "RecentDelays      object\n",
       "Airline           object\n",
       "Flight_Numbers     int32\n",
       "dtype: object"
      ]
     },
     "execution_count": 44,
     "metadata": {},
     "output_type": "execute_result"
    }
   ],
   "source": [
    "df.dtypes"
   ]
  },
  {
   "cell_type": "markdown",
   "id": "0555f6fe",
   "metadata": {},
   "source": [
    "**``3``**"
   ]
  },
  {
   "cell_type": "markdown",
   "id": "b43dd755",
   "metadata": {},
   "source": [
    "**``From_To`` column would be ``better`` as  two ``separate`` ``columns``!** \n",
    "- **Split each string on the underscore delimiter ``_``**\n",
    "- **to give a new temporary DataFrame with the correct values**. "
   ]
  },
  {
   "cell_type": "code",
   "execution_count": 45,
   "id": "57b606fd",
   "metadata": {},
   "outputs": [],
   "source": [
    "df[['From','To']]=df.From_To.str.split(pat='_', n=-1, expand=True)"
   ]
  },
  {
   "cell_type": "code",
   "execution_count": 46,
   "id": "e5c26c05",
   "metadata": {
    "scrolled": true
   },
   "outputs": [
    {
     "data": {
      "text/html": [
       "<div>\n",
       "<style scoped>\n",
       "    .dataframe tbody tr th:only-of-type {\n",
       "        vertical-align: middle;\n",
       "    }\n",
       "\n",
       "    .dataframe tbody tr th {\n",
       "        vertical-align: top;\n",
       "    }\n",
       "\n",
       "    .dataframe thead th {\n",
       "        text-align: right;\n",
       "    }\n",
       "</style>\n",
       "<table border=\"1\" class=\"dataframe\">\n",
       "  <thead>\n",
       "    <tr style=\"text-align: right;\">\n",
       "      <th></th>\n",
       "      <th>From_To</th>\n",
       "      <th>RecentDelays</th>\n",
       "      <th>Airline</th>\n",
       "      <th>Flight_Numbers</th>\n",
       "      <th>From</th>\n",
       "      <th>To</th>\n",
       "    </tr>\n",
       "  </thead>\n",
       "  <tbody>\n",
       "    <tr>\n",
       "      <th>0</th>\n",
       "      <td>LoNDon_paris</td>\n",
       "      <td>[23, 47]</td>\n",
       "      <td>KLM(!)</td>\n",
       "      <td>10045</td>\n",
       "      <td>LoNDon</td>\n",
       "      <td>paris</td>\n",
       "    </tr>\n",
       "    <tr>\n",
       "      <th>1</th>\n",
       "      <td>MAdrid_miLAN</td>\n",
       "      <td>[]</td>\n",
       "      <td>&lt;Air France&gt; (12)</td>\n",
       "      <td>10065</td>\n",
       "      <td>MAdrid</td>\n",
       "      <td>miLAN</td>\n",
       "    </tr>\n",
       "    <tr>\n",
       "      <th>2</th>\n",
       "      <td>londON_StockhOlm</td>\n",
       "      <td>[24, 43, 87]</td>\n",
       "      <td>(British Airways. )</td>\n",
       "      <td>10065</td>\n",
       "      <td>londON</td>\n",
       "      <td>StockhOlm</td>\n",
       "    </tr>\n",
       "    <tr>\n",
       "      <th>3</th>\n",
       "      <td>Budapest_PaRis</td>\n",
       "      <td>[13]</td>\n",
       "      <td>12. Air France</td>\n",
       "      <td>10065</td>\n",
       "      <td>Budapest</td>\n",
       "      <td>PaRis</td>\n",
       "    </tr>\n",
       "    <tr>\n",
       "      <th>4</th>\n",
       "      <td>Brussels_londOn</td>\n",
       "      <td>[67, 32]</td>\n",
       "      <td>\"Swiss Air\"</td>\n",
       "      <td>10085</td>\n",
       "      <td>Brussels</td>\n",
       "      <td>londOn</td>\n",
       "    </tr>\n",
       "  </tbody>\n",
       "</table>\n",
       "</div>"
      ],
      "text/plain": [
       "            From_To  RecentDelays              Airline  Flight_Numbers  \\\n",
       "0      LoNDon_paris      [23, 47]               KLM(!)           10045   \n",
       "1      MAdrid_miLAN            []    <Air France> (12)           10065   \n",
       "2  londON_StockhOlm  [24, 43, 87]  (British Airways. )           10065   \n",
       "3    Budapest_PaRis          [13]       12. Air France           10065   \n",
       "4   Brussels_londOn      [67, 32]          \"Swiss Air\"           10085   \n",
       "\n",
       "       From         To  \n",
       "0    LoNDon      paris  \n",
       "1    MAdrid      miLAN  \n",
       "2    londON  StockhOlm  \n",
       "3  Budapest      PaRis  \n",
       "4  Brussels     londOn  "
      ]
     },
     "execution_count": 46,
     "metadata": {},
     "output_type": "execute_result"
    }
   ],
   "source": [
    "df"
   ]
  },
  {
   "cell_type": "markdown",
   "id": "c5421dea",
   "metadata": {},
   "source": [
    "**``4``**"
   ]
  },
  {
   "cell_type": "markdown",
   "id": "fe7b2a07",
   "metadata": {},
   "source": [
    "- **Notice how the capitalisation of the city names is all mixed up in this** \n",
    "- **temporary DataFrame. Standardise the strings**\n",
    "- **so that only the first letter is** \n",
    "- **uppercase (e.g. \"londON\" should become \"London\".)**"
   ]
  },
  {
   "cell_type": "code",
   "execution_count": 47,
   "id": "7250b70d",
   "metadata": {},
   "outputs": [],
   "source": [
    "df['From']=df['From'].str.capitalize()\n",
    "df['To']=df['To'].str.capitalize()"
   ]
  },
  {
   "cell_type": "markdown",
   "id": "979a52f1",
   "metadata": {},
   "source": [
    "**``5``**"
   ]
  },
  {
   "cell_type": "markdown",
   "id": "c226268c",
   "metadata": {},
   "source": [
    "**``Delete`` the ``From_To`` column from df**"
   ]
  },
  {
   "cell_type": "code",
   "execution_count": 48,
   "id": "c1a092fe",
   "metadata": {},
   "outputs": [],
   "source": [
    "df.drop(columns=['From_To'],inplace=True)"
   ]
  },
  {
   "cell_type": "code",
   "execution_count": 49,
   "id": "6b94158a",
   "metadata": {
    "scrolled": true
   },
   "outputs": [
    {
     "data": {
      "text/html": [
       "<div>\n",
       "<style scoped>\n",
       "    .dataframe tbody tr th:only-of-type {\n",
       "        vertical-align: middle;\n",
       "    }\n",
       "\n",
       "    .dataframe tbody tr th {\n",
       "        vertical-align: top;\n",
       "    }\n",
       "\n",
       "    .dataframe thead th {\n",
       "        text-align: right;\n",
       "    }\n",
       "</style>\n",
       "<table border=\"1\" class=\"dataframe\">\n",
       "  <thead>\n",
       "    <tr style=\"text-align: right;\">\n",
       "      <th></th>\n",
       "      <th>RecentDelays</th>\n",
       "      <th>Airline</th>\n",
       "      <th>Flight_Numbers</th>\n",
       "      <th>From</th>\n",
       "      <th>To</th>\n",
       "    </tr>\n",
       "  </thead>\n",
       "  <tbody>\n",
       "    <tr>\n",
       "      <th>0</th>\n",
       "      <td>[23, 47]</td>\n",
       "      <td>KLM(!)</td>\n",
       "      <td>10045</td>\n",
       "      <td>London</td>\n",
       "      <td>Paris</td>\n",
       "    </tr>\n",
       "    <tr>\n",
       "      <th>1</th>\n",
       "      <td>[]</td>\n",
       "      <td>&lt;Air France&gt; (12)</td>\n",
       "      <td>10065</td>\n",
       "      <td>Madrid</td>\n",
       "      <td>Milan</td>\n",
       "    </tr>\n",
       "    <tr>\n",
       "      <th>2</th>\n",
       "      <td>[24, 43, 87]</td>\n",
       "      <td>(British Airways. )</td>\n",
       "      <td>10065</td>\n",
       "      <td>London</td>\n",
       "      <td>Stockholm</td>\n",
       "    </tr>\n",
       "    <tr>\n",
       "      <th>3</th>\n",
       "      <td>[13]</td>\n",
       "      <td>12. Air France</td>\n",
       "      <td>10065</td>\n",
       "      <td>Budapest</td>\n",
       "      <td>Paris</td>\n",
       "    </tr>\n",
       "    <tr>\n",
       "      <th>4</th>\n",
       "      <td>[67, 32]</td>\n",
       "      <td>\"Swiss Air\"</td>\n",
       "      <td>10085</td>\n",
       "      <td>Brussels</td>\n",
       "      <td>London</td>\n",
       "    </tr>\n",
       "  </tbody>\n",
       "</table>\n",
       "</div>"
      ],
      "text/plain": [
       "   RecentDelays              Airline  Flight_Numbers      From         To\n",
       "0      [23, 47]               KLM(!)           10045    London      Paris\n",
       "1            []    <Air France> (12)           10065    Madrid      Milan\n",
       "2  [24, 43, 87]  (British Airways. )           10065    London  Stockholm\n",
       "3          [13]       12. Air France           10065  Budapest      Paris\n",
       "4      [67, 32]          \"Swiss Air\"           10085  Brussels     London"
      ]
     },
     "execution_count": 49,
     "metadata": {},
     "output_type": "execute_result"
    }
   ],
   "source": [
    "df"
   ]
  },
  {
   "cell_type": "markdown",
   "id": "81984af7",
   "metadata": {},
   "source": [
    "**``6``**"
   ]
  },
  {
   "cell_type": "markdown",
   "id": "01e02ab7",
   "metadata": {},
   "source": [
    "- **In the ``RecentDelays`` column,**\n",
    "- **the values have been entered into the DataFrame as a list.**\n",
    "- **We would like ``each`` ``first`` value in its own column,**\n",
    "- **each second value in its own column, and so on.**\n",
    "- **If there ``isn't`` an ``Nth`` value, the value should be ``NaN``.**\n",
    "\n",
    "\n",
    "- **Expand the Series of lists into a DataFrame named delays, rename the columns**\n",
    "\n",
    "- **delay_1, delay_2, etc. and replace the unwanted RecentDelays column in df with delays.**"
   ]
  },
  {
   "cell_type": "code",
   "execution_count": 70,
   "id": "b83c9381",
   "metadata": {},
   "outputs": [],
   "source": [
    "df = pd.DataFrame({'From_To': ['LoNDon_paris', 'MAdrid_miLAN', \n",
    "'londON_StockhOlm',\n",
    "'Budapest_PaRis', 'Brussels_londOn'],\n",
    "'FlightNumber': [10045, np.nan, 10065, np.nan, 10085],\n",
    "'RecentDelays': [[23, 47], [], [24, 43, 87], [13], [67, 32]],\n",
    "'Airline': ['KLM(!)', '<Air France> (12)', '(British Airways. )',\n",
    "'12. Air France', '\"Swiss Air\"']})"
   ]
  },
  {
   "cell_type": "code",
   "execution_count": 71,
   "id": "af1b4105",
   "metadata": {},
   "outputs": [],
   "source": [
    "rows=[]\n",
    "_=df.apply(lambda row:[rows.append([row['Airline'],row['FlightNumber'],nn,row['From_To']])\n",
    "                      for nn in row.RecentDelays],axis=1)"
   ]
  },
  {
   "cell_type": "code",
   "execution_count": 72,
   "id": "1f30b712",
   "metadata": {},
   "outputs": [
    {
     "data": {
      "text/plain": [
       "[['KLM(!)', 10045.0, 23, 'LoNDon_paris'],\n",
       " ['KLM(!)', 10045.0, 47, 'LoNDon_paris'],\n",
       " ['(British Airways. )', 10065.0, 24, 'londON_StockhOlm'],\n",
       " ['(British Airways. )', 10065.0, 43, 'londON_StockhOlm'],\n",
       " ['(British Airways. )', 10065.0, 87, 'londON_StockhOlm'],\n",
       " ['12. Air France', nan, 13, 'Budapest_PaRis'],\n",
       " ['\"Swiss Air\"', 10085.0, 67, 'Brussels_londOn'],\n",
       " ['\"Swiss Air\"', 10085.0, 32, 'Brussels_londOn']]"
      ]
     },
     "execution_count": 72,
     "metadata": {},
     "output_type": "execute_result"
    }
   ],
   "source": [
    "rows"
   ]
  },
  {
   "cell_type": "code",
   "execution_count": 73,
   "id": "2989555d",
   "metadata": {},
   "outputs": [
    {
     "name": "stdout",
     "output_type": "stream",
     "text": [
      "New :                 From_To  FlightNumber  RecentDelays           Airline\n",
      "0               KLM(!)       10045.0            23      LoNDon_paris\n",
      "1               KLM(!)       10045.0            47      LoNDon_paris\n",
      "2  (British Airways. )       10065.0            24  londON_StockhOlm\n",
      "3  (British Airways. )       10065.0            43  londON_StockhOlm\n",
      "4  (British Airways. )       10065.0            87  londON_StockhOlm\n",
      "5       12. Air France           NaN            13    Budapest_PaRis\n",
      "6          \"Swiss Air\"       10085.0            67   Brussels_londOn\n",
      "7          \"Swiss Air\"       10085.0            32   Brussels_londOn\n",
      "------------------------------------------------------------------------------------------\n",
      "Old :              From_To  FlightNumber  RecentDelays              Airline\n",
      "0      LoNDon_paris       10045.0      [23, 47]               KLM(!)\n",
      "1      MAdrid_miLAN           NaN            []    <Air France> (12)\n",
      "2  londON_StockhOlm       10065.0  [24, 43, 87]  (British Airways. )\n",
      "3    Budapest_PaRis           NaN          [13]       12. Air France\n",
      "4   Brussels_londOn       10085.0      [67, 32]          \"Swiss Air\"\n"
     ]
    }
   ],
   "source": [
    "df_new=pd.DataFrame(rows,columns=df.columns)\n",
    "print(\"New : \",df_new)\n",
    "print(\"-\"*90)\n",
    "print(\"Old : \",df)"
   ]
  },
  {
   "cell_type": "code",
   "execution_count": 74,
   "id": "3276a6d7",
   "metadata": {},
   "outputs": [
    {
     "data": {
      "text/html": [
       "<div>\n",
       "<style scoped>\n",
       "    .dataframe tbody tr th:only-of-type {\n",
       "        vertical-align: middle;\n",
       "    }\n",
       "\n",
       "    .dataframe tbody tr th {\n",
       "        vertical-align: top;\n",
       "    }\n",
       "\n",
       "    .dataframe thead th {\n",
       "        text-align: right;\n",
       "    }\n",
       "</style>\n",
       "<table border=\"1\" class=\"dataframe\">\n",
       "  <thead>\n",
       "    <tr style=\"text-align: right;\">\n",
       "      <th></th>\n",
       "      <th>0</th>\n",
       "      <th>1</th>\n",
       "      <th>2</th>\n",
       "    </tr>\n",
       "  </thead>\n",
       "  <tbody>\n",
       "    <tr>\n",
       "      <th>0</th>\n",
       "      <td>23.0</td>\n",
       "      <td>47.0</td>\n",
       "      <td>NaN</td>\n",
       "    </tr>\n",
       "    <tr>\n",
       "      <th>1</th>\n",
       "      <td>NaN</td>\n",
       "      <td>NaN</td>\n",
       "      <td>NaN</td>\n",
       "    </tr>\n",
       "    <tr>\n",
       "      <th>2</th>\n",
       "      <td>24.0</td>\n",
       "      <td>43.0</td>\n",
       "      <td>87.0</td>\n",
       "    </tr>\n",
       "    <tr>\n",
       "      <th>3</th>\n",
       "      <td>13.0</td>\n",
       "      <td>NaN</td>\n",
       "      <td>NaN</td>\n",
       "    </tr>\n",
       "    <tr>\n",
       "      <th>4</th>\n",
       "      <td>67.0</td>\n",
       "      <td>32.0</td>\n",
       "      <td>NaN</td>\n",
       "    </tr>\n",
       "  </tbody>\n",
       "</table>\n",
       "</div>"
      ],
      "text/plain": [
       "      0     1     2\n",
       "0  23.0  47.0   NaN\n",
       "1   NaN   NaN   NaN\n",
       "2  24.0  43.0  87.0\n",
       "3  13.0   NaN   NaN\n",
       "4  67.0  32.0   NaN"
      ]
     },
     "execution_count": 74,
     "metadata": {},
     "output_type": "execute_result"
    }
   ],
   "source": [
    "delay_df=pd.DataFrame(df['RecentDelays'].values.tolist())\n",
    "delay_df"
   ]
  },
  {
   "cell_type": "code",
   "execution_count": 75,
   "id": "f519862e",
   "metadata": {},
   "outputs": [
    {
     "data": {
      "text/plain": [
       "3"
      ]
     },
     "execution_count": 75,
     "metadata": {},
     "output_type": "execute_result"
    }
   ],
   "source": [
    "length_cols=delay_df.shape[1]\n",
    "length_cols"
   ]
  },
  {
   "cell_type": "code",
   "execution_count": 77,
   "id": "b3b5887b",
   "metadata": {},
   "outputs": [
    {
     "data": {
      "text/plain": [
       "{0: 'Delay1', 1: 'Delay2', 2: 'Delay3'}"
      ]
     },
     "execution_count": 77,
     "metadata": {},
     "output_type": "execute_result"
    }
   ],
   "source": [
    "col_list=[]\n",
    "col_dict={}\n",
    "for i in range(length_cols):\n",
    "    key = delay_df.columns[i]\n",
    "    Value=\"Delay\"+str(i+1)\n",
    "    col_dict[key]=Value\n",
    "col_dict    "
   ]
  },
  {
   "cell_type": "code",
   "execution_count": 78,
   "id": "958385f6",
   "metadata": {},
   "outputs": [
    {
     "data": {
      "text/plain": [
       "2"
      ]
     },
     "execution_count": 78,
     "metadata": {},
     "output_type": "execute_result"
    }
   ],
   "source": [
    "delay_df.columns[2]"
   ]
  },
  {
   "cell_type": "code",
   "execution_count": 79,
   "id": "07034e7a",
   "metadata": {
    "scrolled": false
   },
   "outputs": [
    {
     "data": {
      "text/plain": [
       "2"
      ]
     },
     "execution_count": 79,
     "metadata": {},
     "output_type": "execute_result"
    }
   ],
   "source": [
    "delay_df.columns[2]"
   ]
  },
  {
   "cell_type": "markdown",
   "id": "15bf4a08",
   "metadata": {},
   "source": [
    "# **Finished**"
   ]
  },
  {
   "cell_type": "markdown",
   "id": "1a48ccde",
   "metadata": {},
   "source": [
    "**``Explanation`` of concept used in ``for`` loop**"
   ]
  },
  {
   "cell_type": "code",
   "execution_count": 66,
   "id": "aa683c7a",
   "metadata": {},
   "outputs": [],
   "source": [
    "color={\"name\":'Amit','age':19}"
   ]
  },
  {
   "cell_type": "code",
   "execution_count": 80,
   "id": "c04d8b70",
   "metadata": {},
   "outputs": [
    {
     "data": {
      "text/plain": [
       "{'dob': '1-1-2004'}"
      ]
     },
     "execution_count": 80,
     "metadata": {},
     "output_type": "execute_result"
    }
   ],
   "source": [
    "c={}\n",
    "c['dob']='1-1-2004'\n",
    "c"
   ]
  }
 ],
 "metadata": {
  "kernelspec": {
   "display_name": "Python 3",
   "language": "python",
   "name": "python3"
  },
  "language_info": {
   "codemirror_mode": {
    "name": "ipython",
    "version": 3
   },
   "file_extension": ".py",
   "mimetype": "text/x-python",
   "name": "python",
   "nbconvert_exporter": "python",
   "pygments_lexer": "ipython3",
   "version": "3.8.8"
  }
 },
 "nbformat": 4,
 "nbformat_minor": 5
}
