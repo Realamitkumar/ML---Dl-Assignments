{
 "cells": [
  {
   "cell_type": "markdown",
   "id": "be459504",
   "metadata": {},
   "source": [
    "\n",
    "# Q.1)\n",
    "- **Write a Python Program to implement your own myreduce()**\n",
    "- **function which works exactly \n",
    "  like Python's built-in function reduce()**"
   ]
  },
  {
   "cell_type": "code",
   "execution_count": 92,
   "id": "312095a5",
   "metadata": {},
   "outputs": [],
   "source": [
    "def myreduce(anyfunc, sequence):\n",
    "\n",
    " # Get first item in sequence and assign to result\n",
    "  result = sequence[0]\n",
    " # iterate over remaining items in sequence and apply reduction function \n",
    "  for item in sequence[1:]:\n",
    "    result = anyfunc(result, item)\n",
    "\n",
    "    return result\n",
    "\n",
    "def add(x,y):\n",
    "    return x+y\n",
    "\n",
    "def multiply(x,y):\n",
    "    return x*y\n",
    "\n",
    "def division(x,y):\n",
    "    return x/y\n",
    "\n",
    "def square(x,y):\n",
    "    return x**2"
   ]
  },
  {
   "cell_type": "code",
   "execution_count": 93,
   "id": "21acac63",
   "metadata": {},
   "outputs": [],
   "source": [
    "def add(x,y):\n",
    "    return x+y"
   ]
  },
  {
   "cell_type": "code",
   "execution_count": 94,
   "id": "05ac0f46",
   "metadata": {},
   "outputs": [
    {
     "data": {
      "text/plain": [
       "3"
      ]
     },
     "execution_count": 94,
     "metadata": {},
     "output_type": "execute_result"
    }
   ],
   "source": [
    "myreduce(add,[1,2])"
   ]
  },
  {
   "cell_type": "code",
   "execution_count": 95,
   "id": "f4cc0183",
   "metadata": {},
   "outputs": [
    {
     "data": {
      "text/plain": [
       "4"
      ]
     },
     "execution_count": 95,
     "metadata": {},
     "output_type": "execute_result"
    }
   ],
   "source": [
    "myreduce(square,[2,2])"
   ]
  },
  {
   "cell_type": "code",
   "execution_count": 97,
   "id": "d8848300",
   "metadata": {},
   "outputs": [
    {
     "data": {
      "text/plain": [
       "1.0"
      ]
     },
     "execution_count": 97,
     "metadata": {},
     "output_type": "execute_result"
    }
   ],
   "source": [
    "myreduce(division,[2,2])"
   ]
  },
  {
   "cell_type": "code",
   "execution_count": 98,
   "id": "b2141d1f",
   "metadata": {
    "scrolled": true
   },
   "outputs": [
    {
     "data": {
      "text/plain": [
       "4"
      ]
     },
     "execution_count": 98,
     "metadata": {},
     "output_type": "execute_result"
    }
   ],
   "source": [
    "myreduce(multiply,[2,2])"
   ]
  },
  {
   "cell_type": "code",
   "execution_count": 36,
   "id": "be03c6d4",
   "metadata": {},
   "outputs": [
    {
     "name": "stdout",
     "output_type": "stream",
     "text": [
      "6\n"
     ]
    }
   ],
   "source": [
    "#2nd approach\n",
    "def myreduce(mul,list_1):\n",
    "    return a\n",
    "\n",
    "def mul(a,b):\n",
    "    return a*b\n",
    "list_1=[2,3]\n",
    "a=list_1[0]\n",
    "for i in range(1,len(list_1)):\n",
    "    b=list_1[i]\n",
    "    a=mul(a,b)\n",
    "print(myreduce(mul,list_1))    "
   ]
  },
  {
   "cell_type": "markdown",
   "id": "e2a31e43",
   "metadata": {},
   "source": [
    "\n",
    "# Q2.)\n",
    "- **1.2 Write a Python program to implement your**\n",
    "- **own myfilter() function which works exactly**\n",
    "- **like Python's built-in function filter()**"
   ]
  },
  {
   "cell_type": "code",
   "execution_count": 230,
   "id": "ead76808",
   "metadata": {},
   "outputs": [],
   "source": [
    "def my_own_filter(func, iterable):\n",
    "    l = []\n",
    "    for i in range(len(iterable)):\n",
    "        if func(iterable[i]):\n",
    "            l.append(iterable[i])\n",
    "    return l   "
   ]
  },
  {
   "cell_type": "code",
   "execution_count": 231,
   "id": "57bf1cfe",
   "metadata": {},
   "outputs": [
    {
     "data": {
      "text/plain": [
       "[1, 3]"
      ]
     },
     "execution_count": 231,
     "metadata": {},
     "output_type": "execute_result"
    }
   ],
   "source": [
    "l=[1,2,3]\n",
    "list(my_own_filter(lambda y : y%2==1,l))"
   ]
  },
  {
   "cell_type": "code",
   "execution_count": 211,
   "id": "2a9ea4d5",
   "metadata": {},
   "outputs": [],
   "source": [
    "#2nd approach\n",
    "def myfilter(func,sequence):\n",
    "    return func(sequence)\n",
    "\n",
    "#even\n",
    "l=[]\n",
    "def iseven(sequence):\n",
    "    for i in sequence:\n",
    "            if i%2==0:\n",
    "                l.append(i)\n",
    "    print(l) \n",
    "\n",
    "#odd\n",
    "o=[]\n",
    "def isodd(sequence):\n",
    "    for i in sequence:\n",
    "            if i%2!=0:\n",
    "                o.append(i)\n",
    "    print(o)     "
   ]
  },
  {
   "cell_type": "code",
   "execution_count": 212,
   "id": "14804c94",
   "metadata": {},
   "outputs": [
    {
     "name": "stdout",
     "output_type": "stream",
     "text": [
      "[12, 8]\n"
     ]
    }
   ],
   "source": [
    "myfilter(iseven,[12,3,7,8])"
   ]
  },
  {
   "cell_type": "code",
   "execution_count": 213,
   "id": "bffc4b5c",
   "metadata": {},
   "outputs": [
    {
     "name": "stdout",
     "output_type": "stream",
     "text": [
      "[3, 7]\n"
     ]
    }
   ],
   "source": [
    "myfilter(isodd,[12,3,7,8])"
   ]
  },
  {
   "cell_type": "markdown",
   "id": "88449c45",
   "metadata": {},
   "source": [
    "# Q3.) Implement List Comprehensions to produce the following lists. Write List Comprehensions to produce the following Lists\n",
    "\n",
    "\n",
    "3.1. ['x', 'xx', 'xxx', 'xxxx', 'y', 'yy', 'yyy', 'yyyy', 'z', 'zz', 'zzz', 'zzzz']\n",
    "3.2. ['x', 'y', 'z', 'xx', 'yy', 'zz' 'xxx', 'yyy', 'zzz', 'xxxx', 'yyyy', 'zzzz']\n",
    "3.3. [[2], [3], [4], [3], [4], [5], [4], [5], [6]] \n",
    "3.4. [[2, 3, 4, 5], [3, 4, 5, 6], [4, 5, 6, 7], [5, 6, 7, 8]]\n",
    "3.5. [(1, 1), (2, 1), (3, 1), (1, 2), (2, 2), (3, 2), (1, 3), (2, 3), (3, 3)]"
   ]
  },
  {
   "cell_type": "code",
   "execution_count": 233,
   "id": "74f43c24",
   "metadata": {},
   "outputs": [
    {
     "name": "stdout",
     "output_type": "stream",
     "text": [
      "['x','y','z'] => ['x', 'xx', 'xxx', 'xxxx', 'y', 'yy', 'yyy', 'yyyy', 'z', 'zz', 'zzz', 'zzzz']\n",
      "['x','y','z'] => ['x', 'y', 'z', 'xx', 'yy', 'zz', 'xxx', 'yyy', 'zzz', 'xxxx', 'yyyy', 'zzzz']\n",
      "[2,3,4] =>[[2], [3], [4], [3], [4], [5], [4], [5], [6]]\n",
      "[2,3,4,5] =>[[2, 3, 4, 5], [3, 4, 5, 6], [4, 5, 6, 7], [5, 6, 7, 8]]\n",
      "[1,2,3] =>[(1, 1), (2, 1), (3, 1), (1, 2), (2, 2), (3, 2), (1, 3), (2, 3), (3, 3)]\n"
     ]
    }
   ],
   "source": [
    "input_list = ['x','y','z']\n",
    "result = [ item*num for item in input_list for num in range(1,5)  ]\n",
    "print(\"['x','y','z'] => \" +   str(result))\n",
    "\n",
    "#########\n",
    "# Compress above for loop into a single list comprehension using technique [i <Upper for condition> <lower for condition>]\n",
    "input_list = ['x','y','z']\n",
    "result = [ item*num for num in range(1,5) for item in input_list  ]\n",
    "print(\"['x','y','z'] => \" +   str(result))\n",
    "\n",
    "#########\n",
    "input_list = [2,3,4]\n",
    "result = [ [item+num] for item in input_list for num in range(0,3)]\n",
    "print(\"[2,3,4] =>\" +  str(result))\n",
    "\n",
    "#########\n",
    "input_list = [2,3,4,5]\n",
    "result = [ [item+num for item in input_list] for num in range(0,4)  ]\n",
    "print(\"[2,3,4,5] =>\" +  str(result))\n",
    "\n",
    "#########\n",
    "input_list=[1,2,3]\n",
    "result = [ (b,a) for a in input_list for b in input_list]\n",
    "print(\"[1,2,3] =>\" +  str(result))"
   ]
  },
  {
   "cell_type": "code",
   "execution_count": 234,
   "id": "2009b247",
   "metadata": {},
   "outputs": [],
   "source": [
    "u = ['x', 'xx', 'xxx', 'xxxx', 'y', 'yy', 'yyy', 'yyyy', 'z', 'zz', 'zzz', 'zzzz']"
   ]
  },
  {
   "cell_type": "code",
   "execution_count": 244,
   "id": "3c53e5d6",
   "metadata": {},
   "outputs": [
    {
     "name": "stdout",
     "output_type": "stream",
     "text": [
      "x\n",
      "y\n",
      "z\n",
      "0\n",
      "1\n",
      "2\n",
      "3\n",
      "4\n"
     ]
    },
    {
     "data": {
      "text/plain": [
       "'zzzz'"
      ]
     },
     "execution_count": 244,
     "metadata": {},
     "output_type": "execute_result"
    }
   ],
   "source": [
    "l = [\"x\",\"y\",\"z\"]\n",
    "for item in l:\n",
    "    print(item)\n",
    "    \n",
    "for n in range(5):\n",
    "    print(n)\n",
    "    \n",
    "item*n    "
   ]
  },
  {
   "cell_type": "code",
   "execution_count": 252,
   "id": "19504419",
   "metadata": {},
   "outputs": [
    {
     "name": "stdout",
     "output_type": "stream",
     "text": [
      "['x', 'xx', 'xxx', 'xxxx', 'y', 'yy', 'yyy', 'yyyy', 'z', 'zz', 'zzz', 'zzzz']\n"
     ]
    }
   ],
   "source": [
    "result = [i*num for i in l for num in range(1,5)]\n",
    "print(str(result))"
   ]
  },
  {
   "cell_type": "code",
   "execution_count": null,
   "id": "26cc0a90",
   "metadata": {},
   "outputs": [],
   "source": []
  }
 ],
 "metadata": {
  "kernelspec": {
   "display_name": "Python 3",
   "language": "python",
   "name": "python3"
  },
  "language_info": {
   "codemirror_mode": {
    "name": "ipython",
    "version": 3
   },
   "file_extension": ".py",
   "mimetype": "text/x-python",
   "name": "python",
   "nbconvert_exporter": "python",
   "pygments_lexer": "ipython3",
   "version": "3.8.8"
  }
 },
 "nbformat": 4,
 "nbformat_minor": 5
}
