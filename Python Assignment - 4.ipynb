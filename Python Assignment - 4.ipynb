{
 "cells": [
  {
   "cell_type": "markdown",
   "id": "3d952d79",
   "metadata": {},
   "source": [
    "# Assignment - 4"
   ]
  },
  {
   "cell_type": "markdown",
   "id": "10a1b5be",
   "metadata": {},
   "source": [
    "# Q1:\n",
    "**Write a Python Program(with class concepts) to find the area of the triangle using the below \n",
    "formula.**\n",
    "- area = (s*(s-a)*(s-b)*(s-c)) ** 0.5\n",
    "**Function to take the length of the sides of triangle from user should be defined in the parent \n",
    "class and function to calculate the area should be defined in subclass**"
   ]
  },
  {
   "cell_type": "code",
   "execution_count": 9,
   "id": "0f47aa37",
   "metadata": {},
   "outputs": [
    {
     "name": "stdout",
     "output_type": "stream",
     "text": [
      "Enter first side of the triangle:\n",
      "120\n",
      "Enter second side of the triangle:\n",
      "122\n",
      "Enter third side of the triangle:\n",
      "22\n",
      "area of triangle 1320.0 \n"
     ]
    }
   ],
   "source": [
    "class tri:\n",
    "    def __init__(self,a,b,c):\n",
    "        self.a=a\n",
    "        self.b=b\n",
    "        self.c=c\n",
    "    \n",
    "    def area_of_tri(self):\n",
    "        #perimeter of sides of the triangle\n",
    "        s = (self.a+self.b+self.c)/2\n",
    "        return (s*(s-a)*(s-b)*(s-c))**0.5\n",
    "    \n",
    "    \n",
    "#taking inputs for a , b , c \n",
    "a = float(input(\"Enter first side of the triangle:\\n\"))\n",
    "b = float(input(\"Enter second side of the triangle:\\n\"))\n",
    "c = float(input(\"Enter third side of the triangle:\\n\"))\n",
    "\n",
    "#object creation\n",
    "ar=tri(a,b,c)\n",
    "\n",
    "#area of the triangle\n",
    "print(\"area of triangle {} \".format(ar.area_of_tri()))"
   ]
  },
  {
   "cell_type": "markdown",
   "id": "372b8b8c",
   "metadata": {},
   "source": [
    "# Q2:\n",
    "- **Write a function filter_long_words() that takes a** \n",
    "- **list of words and an integer n and returns** \n",
    "- **the list of words that are longer than n**"
   ]
  },
  {
   "cell_type": "code",
   "execution_count": 1,
   "id": "c050f456",
   "metadata": {},
   "outputs": [],
   "source": [
    "def filter_(n,words):\n",
    "    list_of_words = []\n",
    "    for i in words:\n",
    "        if len(i)>n:\n",
    "            list_of_words.append(i)\n",
    "    return list_of_words          "
   ]
  },
  {
   "cell_type": "code",
   "execution_count": 8,
   "id": "6e481572",
   "metadata": {},
   "outputs": [
    {
     "data": {
      "text/plain": [
       "['shradha']"
      ]
     },
     "execution_count": 8,
     "metadata": {},
     "output_type": "execute_result"
    }
   ],
   "source": [
    "s = [\"Amit\",\"shradha\",\"amm\",\"shra\"]\n",
    "n = 4\n",
    "filter_(n,s)"
   ]
  },
  {
   "cell_type": "markdown",
   "id": "115c7bca",
   "metadata": {},
   "source": [
    "# Q3:\n",
    "\n",
    "- **Write a Python program using function concept**\n",
    "- **that maps list of words into a list of integers** \n",
    "- **representing the lengths of the corresponding words.**\n",
    "\n",
    " **HINT**\n",
    "\n",
    "- **Hint: If a list [ ab,cde,erty] is passed**\n",
    "- **on to the python function output should come as [2,3,4]**\n",
    "- **Here 2,3 and 4 are the lengths of the words in the list.**"
   ]
  },
  {
   "cell_type": "code",
   "execution_count": 77,
   "id": "789a8b15",
   "metadata": {},
   "outputs": [],
   "source": [
    "def length(words):\n",
    "    for i in words:\n",
    "        l = len(words)\n",
    "        return l"
   ]
  },
  {
   "cell_type": "code",
   "execution_count": 78,
   "id": "6d57958f",
   "metadata": {},
   "outputs": [
    {
     "data": {
      "text/plain": [
       "[2, 3, 4]"
      ]
     },
     "execution_count": 78,
     "metadata": {},
     "output_type": "execute_result"
    }
   ],
   "source": [
    "lis = [ \"ab\",\"cde\",\"erty\"]\n",
    "list(map(length,lis))"
   ]
  },
  {
   "cell_type": "markdown",
   "id": "fb44d23a",
   "metadata": {},
   "source": [
    "# Q4:\n",
    "\n",
    "- **Write a Python function which takes a character (i.e. a string of length 1)**\n",
    "- **and returns True if it is a vowel, False otherwise**"
   ]
  },
  {
   "cell_type": "code",
   "execution_count": 13,
   "id": "b48f95a1",
   "metadata": {},
   "outputs": [],
   "source": [
    "def vowel(s):\n",
    "    if(s == 'a' or s == 'e' or s == 'i' or s == 'o' or s == 'u'):\n",
    "        return True\n",
    "    else:\n",
    "        return False"
   ]
  },
  {
   "cell_type": "code",
   "execution_count": 14,
   "id": "b0740aa4",
   "metadata": {},
   "outputs": [
    {
     "data": {
      "text/plain": [
       "False"
      ]
     },
     "execution_count": 14,
     "metadata": {},
     "output_type": "execute_result"
    }
   ],
   "source": [
    "vowel(\"d\")"
   ]
  },
  {
   "cell_type": "code",
   "execution_count": 15,
   "id": "73a894f5",
   "metadata": {},
   "outputs": [
    {
     "data": {
      "text/plain": [
       "True"
      ]
     },
     "execution_count": 15,
     "metadata": {},
     "output_type": "execute_result"
    }
   ],
   "source": [
    "vowel(\"e\")"
   ]
  },
  {
   "cell_type": "code",
   "execution_count": null,
   "id": "90441d90",
   "metadata": {},
   "outputs": [],
   "source": []
  }
 ],
 "metadata": {
  "kernelspec": {
   "display_name": "Python 3",
   "language": "python",
   "name": "python3"
  },
  "language_info": {
   "codemirror_mode": {
    "name": "ipython",
    "version": 3
   },
   "file_extension": ".py",
   "mimetype": "text/x-python",
   "name": "python",
   "nbconvert_exporter": "python",
   "pygments_lexer": "ipython3",
   "version": "3.8.8"
  }
 },
 "nbformat": 4,
 "nbformat_minor": 5
}
